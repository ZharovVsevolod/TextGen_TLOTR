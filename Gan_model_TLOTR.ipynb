{
 "cells": [
  {
   "cell_type": "code",
   "execution_count": 1,
   "metadata": {},
   "outputs": [],
   "source": [
    "%load_ext autoreload\n",
    "%autoreload 2\n",
    "\n",
    "import warnings\n",
    "warnings.filterwarnings('ignore')\n",
    "\n",
    "import matplotlib.pyplot as plt\n",
    "%matplotlib inline\n",
    "\n",
    "import itertools\n",
    "\n",
    "import torch\n",
    "from torch import nn\n",
    "\n",
    "import youtokentome as yttm\n",
    "\n",
    "from utils.base import get_params_number, init_random_seed, train_loop_GAN\n",
    "from utils.poetry import *\n",
    "from utils.transformer_tools import *\n",
    "\n",
    "init_random_seed(1702)"
   ]
  },
  {
   "cell_type": "code",
   "execution_count": 2,
   "metadata": {},
   "outputs": [
    {
     "name": "stdout",
     "output_type": "stream",
     "text": [
      "16825\n",
      "11216\n",
      "5609\n"
     ]
    }
   ],
   "source": [
    "horus = load_chunks(\"./datasets/TLotR_red.txt\", chunk_size=300)\n",
    "\n",
    "ALL_LEN = len(horus)\n",
    "print(ALL_LEN)\n",
    "len_for_steps = int(ALL_LEN / 3)\n",
    "horus_for_GAN = horus[len_for_steps * 2:]\n",
    "horus = horus[:len_for_steps * 2]\n",
    "print(len(horus))\n",
    "print(len(horus_for_GAN))"
   ]
  },
  {
   "cell_type": "code",
   "execution_count": 4,
   "metadata": {},
   "outputs": [
    {
     "name": "stdout",
     "output_type": "stream",
     "text": [
      "<PAD> <UNK> <BOS> <EOS> ▁ e t a o n h s r i d l u w g m f y c , . b p ' k v I T B S A ! F H G W ; - M ` E ? : _ R N O L D Y P q C j x z \" – U ) ( K V 1 Q J 9 4 3 2 0 7 6 8 5 Z * X = / ▁t he ▁a ▁the in ▁s ▁w nd re ▁o ▁h ou ▁b ▁f ▁and er ed ing at ll it ▁m ▁c ▁l ▁of is ar or en ▁d as ▁to ▁th ▁n es ro ▁he ▁g an id ▁in on ow ▁' ▁I ad ut ▁p ▁be ot ▁y ▁T gh om ld ▁e ▁it ▁st ▁sa ▁was ▁we ▁that ▁u ve ▁you le im ir ay ▁on ▁The ly ght ▁ha am et ▁B st ▁not ▁S ▁said ▁his ill oo se ▁as ▁they ver ▁r ur ▁for ▁A ▁F ac ith ▁is ee ▁G and ▁wh ▁sh al il ight ▁H ▁with ain all ard ▁re ,' ke ould .' ▁had ▁M ▁an ent her ▁at ic ore s, if ome ▁` ast ▁have ▁were ▁him s. red rod ▁but ▁E ▁up ▁W ag ind ▁them ong ▁k th rodo ▁le ▁Frodo rom ▁or ▁do ▁all e. e, ▁see ▁He ▁from nt pp ▁fe ood ch ▁ne ack ▁are ri ▁their ter 's ▁gre ▁sp ▁li ▁R ▁ho ▁there ▁no ▁go ▁now ▁su ▁ag ▁me ▁out ound ▁will ▁But orn ▁so ▁if ook !' ess um ord ry own ame ce ▁kn ▁al ▁O ▁whe ough out ▁long to ust ol ▁'I ▁L ell ark ▁my ▁ro ven ▁cl ▁ab ▁again ▁v ▁by ak alf ang hed ▁se our way ide ther any est ves ed. andalf ▁down ▁look bb ▁D ▁ch ▁Gandalf ▁your ▁this nder ▁could ap ▁into ▁like un ▁can ward ▁de 't ▁N ▁It ▁would ra ed, urn row ▁came qu ered ire ▁more bbit lf ▁They ers one ▁some ion ▁Sam li ?' ▁seem ree den ▁us fore ▁been ▁P es, ▁back eep ▁what ass oll art ck ▁over ▁am au ▁any ought ist ant ▁great ▁dark ▁away ▁fl ▁come ink hat ▁com ▁bl ▁And ▁'T ▁before ▁j ▁know ▁_ ing. ake ft ▁then rag ▁many ▁qu ount ▁'W ▁other ▁far very ▁did ▁way ▁than ▁one ▁about ath ▁may ▁tim ▁wat ▁C lt itt are ▁pl ▁hobbit ▁too ne ▁still pe ▁sl ing, ▁has ▁br ▁There ick You ▁when ▁sw ose ▁our ings ▁tre ous ▁tr ▁ey ▁light ▁pass ▁day ▁Arag ▁hand ond ▁Aragorn es. ▁upon ile ost ▁last ▁af ▁old ng ▁here ▁gr ▁ar ▁even er. ge ▁El ▁must us ▁only ear ipp wn ish ▁seemed ▁gl ▁shall ▁under rie ▁sm led ble ove erry ▁gu ▁un self ▁went ▁thought ich ive ite ss ▁tw ▁say adow ▁turn ig ippin ▁should ▁night ade ▁Pippin ort er, pt ▁land bo on't ▁think hing alk me ▁thr ave ▁off ▁looked ▁wor ▁very ▁en ittle ling ▁which old ▁str ie ▁We ace ▁little ice dden ▁end ul ▁beg air y, ep ▁its ▁Or y. ▁'The ▁mu ▁where op But ▁wind ▁while ▁Then ▁St ▁sil ▁'A ▁through ▁time hind ▁bet ▁Sh ▁saw be ▁who ▁hill ▁after ilbo ate ▁Bilbo ady ▁it. ct ▁heard ved ▁good ▁get sw ▁Frodo. ift ▁much ure ▁`I ▁per ▁ever ▁nor ▁behind ▁Merry ▁– ly. less ▁him. ▁yet anc wards ▁found ▁answ ▁left ▁fir ▁Gim ▁said. ▁vo ▁stood ▁Gimli ▁well ollum ▁shadow ▁hobbits ▁deep ▁fell ▁made ountain igh ▁Le ale oke ▁Th ild ▁spe ▁call ▁po outh iver ▁them. ddenly ▁fall ▁find ather ▁pre ▁ex oud ▁word ▁ask we ared ▁stre riend ▁cle ▁she ried ue ▁con ▁might ▁Gollum ▁it, ▁dre oot ▁first gol ▁hor ▁At ▁In golas ▁sun ▁Gandalf. ull ▁You ▁road ▁seen ▁Legolas ine ▁own pen rid ▁For ▁eyes ▁Orc ▁two ▁feet ▁himself ▁near ▁war ▁head ▁'H aster ▁'N ving not ank ▁'But ▁set ▁pe ▁don't ▁bec ▁mo orom ci ▁bro ▁though oromir ▁open ▁friend reat ▁Ro ▁sle ched ▁going ollow ▁lay arum ower aruman ▁never ▁Boromir ▁wood de ▁Is int ▁sk ori ▁right eng ▁Shire ▁fire ▁unt ither get hen ▁heart ▁them, ▁man ▁door yond ▁her ▁things ange ▁him, ise ▁these ▁let ▁Ring ▁passed ▁\" ▁walk ▁again. ▁round ful olk ▁Saruman ▁bo ▁sc ▁rem ars 'll ▁tell em ▁water ▁need ▁turned ▁black ▁ev ▁des ▁soon ff ▁Elves ▁hope oub ▁ac ▁take ▁trees ▁rid onder ▁above oth ▁towards ▁dis ▁Men iff ▁cannot ▁began ▁new ally ▁high ▁hel ▁follow ▁Ent omet ▁bre pped ▁beyond ▁until ning ▁slow ▁wa ly, ▁Strid ▁how ▁felt ▁ston agg ▁sat ▁fear ▁men ▁year ▁`T ▁hard r. ▁ret ▁part ▁kne ▁speak mb ken ▁sound ere ▁took ished ▁answered ▁cour sel ▁pro ▁make ▁'It ▁inde ▁mom ▁wall ▁those ▁got ▁suddenly ▁moment ▁clear ince ool ell, ▁just ▁green other ▁somet ▁wonder here les imb ▁path ance ▁lea pany ▁mind ▁rest ▁spr ▁grey az ▁Orcs ▁hear ▁Aragorn. ▁such rown ▁arm ung ween uck so ▁white ▁among ▁help ▁ear ▁mountain ▁few war ▁put el iz ▁return hap ▁folk ▁spoke ross ▁once ▁fee ness ▁el ▁Y ▁between att ▁small n't ▁`W ready rand able ▁ad ▁hu ▁thing ▁'You ach ouse ▁ground ▁keep ▁side ▁another ▁Wh gether ten ▁sleep ▁Mr. sh hes ting ▁since ies ▁es ▁wish ▁want ▁Frodo, ▁'We ▁cold ▁cr ▁As ▁run ▁What ▁Rid ▁sn ering ▁without ▁you, ▁fac os ▁ste ▁stro ▁evil ▁quick aught ▁la land ▁against ▁east ▁others av ▁world age tain ▁im ▁cried ▁stand ▁indeed dle -f ▁looking ▁enough ▁'S ▁U ▁strange ment ▁asked ▁'And ▁sword ▁If ory ▁voic ourne ail ▁ed ▁app ▁knew ▁already ▁journe ened ▁days ▁along orest ▁His ▁fair ▁also oubt ▁most ▁gold ▁So ▁fur ▁ago ▁Com ▁grew rond ign ▁wide ▁( light ▁said, ▁leave ▁tra ret oom ▁south most ▁count ▁dist ▁sec ▁tall ▁Far ▁voice ▁west ▁mean anger obbit ip s; ▁grow thing aking ▁course ▁stream ▁doubt ▁climb ▁north ▁dr ▁air ield ▁again, ▁something ▁When ▁better ▁morn ▁words ▁Elrond\n"
     ]
    }
   ],
   "source": [
    "BPE_MODEL_FILENAME = './models/tokens/lord_bpe_1000_new.yttm'\n",
    "\n",
    "tokenizer = yttm.BPE(BPE_MODEL_FILENAME)\n",
    "print(' '.join(tokenizer.vocab()))"
   ]
  },
  {
   "cell_type": "code",
   "execution_count": null,
   "metadata": {},
   "outputs": [],
   "source": [
    "token_ids = tokenizer.encode(horus_for_GAN, bos=True, eos=True)\n",
    "\n",
    "unknown_subwords_in_test = sum(1 for text in token_ids for token_id in text if token_id == 1)\n",
    "print('Количество случаев с неизвестными n-граммами символов', unknown_subwords_in_test)"
   ]
  },
  {
   "cell_type": "code",
   "execution_count": 6,
   "metadata": {},
   "outputs": [
    {
     "data": {
      "image/png": "[encoded data removed]",
      "text/plain": [
       "<Figure size 640x480 with 1 Axes>"
      ]
     },
     "metadata": {},
     "output_type": "display_data"
    }
   ],
   "source": [
    "plt.hist([len(sent) for sent in token_ids], bins=30)\n",
    "plt.title('Распределение длин фрагментов в токенах')\n",
    "plt.yscale('log')"
   ]
  },
  {
   "cell_type": "code",
   "execution_count": 7,
   "metadata": {},
   "outputs": [],
   "source": [
    "start_length = 20\n",
    "end_length = 50\n",
    "\n",
    "all_dataset = Dataset_for_GAN(token_ids, start_len=start_length, end_len=end_length)"
   ]
  },
  {
   "cell_type": "code",
   "execution_count": 8,
   "metadata": {},
   "outputs": [
    {
     "name": "stdout",
     "output_type": "stream",
     "text": [
      "[244  19 529 319 191 699 101 714 174 322 512 131 173  26 432  24 128 816\n",
      "  24 220]\n",
      "[811 144 470 162 390  87 584  99  84 166  87 897 348 108 681  10 122 381\n",
      "  23 269 170 232 162 381 419 107 102 234 427 246 906 944  86  85 129  24\n",
      " 135   8 880 540 144 410 271 667 194 164 496  24 667 365]\n",
      "['nemy, challenging him, for this very purpose. I wonder. W']\n",
      "[\"ell, we shall not know the answer till the Riders of Rohan come, if they do not come too late. There are evil days ahead. To sleep while we may!' 'But,' said Pippin. 'But what\"]\n"
     ]
    }
   ],
   "source": [
    "check = all_dataset[2036]\n",
    "\n",
    "print(check[0])\n",
    "print(check[1])\n",
    "print(tokenizer.decode(check[0].tolist()))\n",
    "print(tokenizer.decode(check[1].tolist()))"
   ]
  },
  {
   "cell_type": "code",
   "execution_count": 9,
   "metadata": {},
   "outputs": [
    {
     "name": "stdout",
     "output_type": "stream",
     "text": [
      "Количество параметров дискриминатора 399301\n",
      "Количество параметров генератора 3148520\n"
     ]
    }
   ],
   "source": [
    "D_model = LSTM_Discriminator(100, 256, tokenizer.vocab_size())\n",
    "print('Количество параметров дискриминатора', get_params_number(D_model))\n",
    "\n",
    "G_model = Language_Model(\n",
    "    vocab_size = tokenizer.vocab_size(),\n",
    "    embedding_size = 256,\n",
    "    backbone = Transformer_Encoder(\n",
    "        nn.TransformerEncoderLayer(\n",
    "            d_model = 256,\n",
    "            nhead = 16,\n",
    "            dim_feedforward = 512,\n",
    "            dropout = 0.1\n",
    "        ),\n",
    "        num_layers=5\n",
    "    ),\n",
    "    emb_dropout = 0.1\n",
    ")\n",
    "print('Количество параметров генератора', get_params_number(G_model))"
   ]
  },
  {
   "cell_type": "code",
   "execution_count": 11,
   "metadata": {},
   "outputs": [
    {
     "data": {
      "text/plain": [
       "<All keys matched successfully>"
      ]
     },
     "execution_count": 11,
     "metadata": {},
     "output_type": "execute_result"
    }
   ],
   "source": [
    "optimizer_SD_G = torch.load('./models/Lord/4/Lord_opt.pth')\n",
    "G_model.load_state_dict(torch.load('./models/Lord/4/Lord.pth'))"
   ]
  },
  {
   "cell_type": "code",
   "execution_count": 12,
   "metadata": {},
   "outputs": [
    {
     "name": "stdout",
     "output_type": "stream",
     "text": [
      "Эпоха 0\n"
     ]
    },
    {
     "name": "stderr",
     "output_type": "stream",
     "text": [
      "88it [00:33,  2.61it/s]\n"
     ]
    },
    {
     "name": "stdout",
     "output_type": "stream",
     "text": [
      "Эпоха прошла за 33.7 секунд\n",
      "Средняя функция потерь для дискриминатора = 0.3755197898823429\n",
      "Средняя функция потерь для генератора = 3.5923347066749227\n",
      "For the king and the fairest of the world, and the Silverlode flowed down into the Westfold-men, and the Silverlode fl\n",
      "Следующая эпоха\n",
      "Эпоха 1\n"
     ]
    },
    {
     "name": "stderr",
     "output_type": "stream",
     "text": [
      "88it [00:32,  2.71it/s]\n"
     ]
    },
    {
     "name": "stdout",
     "output_type": "stream",
     "text": [
      "Эпоха прошла за 32.48 секунд\n",
      "Средняя функция потерь для дискриминатора = 0.10216304563536224\n",
      "Средняя функция потерь для генератора = 5.540537080981514\n",
      "For the king and the fields of the Enemy. One Ring passed over the Mountains, and the Dark Lord of the Mountains of Mordor, and the Mark,\n",
      "Следующая эпоха\n",
      "Эпоха 2\n"
     ]
    },
    {
     "name": "stderr",
     "output_type": "stream",
     "text": [
      "88it [00:32,  2.69it/s]\n"
     ]
    },
    {
     "name": "stdout",
     "output_type": "stream",
     "text": [
      "Эпоха прошла за 32.67 секунд\n",
      "Средняя функция потерь для дискриминатора = 0.0533998224127572\n",
      "Средняя функция потерь для генератора = 6.471644997596741\n",
      "For the king and held up his hand. 'Gandalf!' he cried. 'Do you hear it?' he said. 'Ents!' said the Ridermen. 'This is the\n",
      "Следующая эпоха\n",
      "Эпоха 3\n"
     ]
    },
    {
     "name": "stderr",
     "output_type": "stream",
     "text": [
      "88it [00:32,  2.69it/s]\n"
     ]
    },
    {
     "name": "stdout",
     "output_type": "stream",
     "text": [
      "Эпоха прошла за 32.7 секунд\n",
      "Средняя функция потерь для дискриминатора = 0.033481172981820156\n",
      "Средняя функция потерь для генератора = 7.376548680392179\n",
      "For the king and held a great horse, and the horsemen stood upon the horses, and the horses of the Emyn Muil. The horses were g\n",
      "Следующая эпоха\n",
      "Эпоха 4\n"
     ]
    },
    {
     "name": "stderr",
     "output_type": "stream",
     "text": [
      "88it [00:32,  2.70it/s]\n"
     ]
    },
    {
     "name": "stdout",
     "output_type": "stream",
     "text": [
      "Эпоха прошла за 32.64 секунд\n",
      "Средняя функция потерь для дискриминатора = 0.037544114364374596\n",
      "Средняя функция потерь для генератора = 7.89955461025238\n",
      "For the king and the Darkness of the Mark Lordor, and the Mountains of the Mountains of Shadow; and the Shadows of the Windlords of the\n",
      "Следующая эпоха\n",
      "Эпоха 5\n"
     ]
    },
    {
     "name": "stderr",
     "output_type": "stream",
     "text": [
      "88it [00:32,  2.68it/s]\n"
     ]
    },
    {
     "name": "stdout",
     "output_type": "stream",
     "text": [
      "Эпоха прошла за 32.81 секунд\n",
      "Средняя функция потерь для дискриминатора = 0.03228496944013221\n",
      "Средняя функция потерь для генератора = 8.168828097256748\n",
      "For the king and the familiar. Then he spoke to his companions. 'Ready! Come now!' he said. 'Farewell!' he said. 'This is\n",
      "Следующая эпоха\n",
      "Эпоха 6\n"
     ]
    },
    {
     "name": "stderr",
     "output_type": "stream",
     "text": [
      "88it [00:32,  2.71it/s]\n"
     ]
    },
    {
     "name": "stdout",
     "output_type": "stream",
     "text": [
      "Эпоха прошла за 32.42 секунд\n",
      "Средняя функция потерь для дискриминатора = 0.016227496732343836\n",
      "Средняя функция потерь для генератора = 8.803565632213246\n",
      "For the king and his companions stood silent. He looked up, and he saw that he was sitting with an effort. He was sitting upon his knees, and his\n",
      "Следующая эпоха\n",
      "Эпоха 7\n"
     ]
    },
    {
     "name": "stderr",
     "output_type": "stream",
     "text": [
      "88it [00:33,  2.64it/s]\n"
     ]
    },
    {
     "name": "stdout",
     "output_type": "stream",
     "text": [
      "Эпоха прошла за 33.34 секунд\n",
      "Средняя функция потерь для дискриминатора = 0.030604755177178464\n",
      "Средняя функция потерь для генератора = 8.748872117562728\n",
      "For the king and power of the world. And the Silverlode flows of the Silverlode flows into the Great River, and the Sea\n",
      "Следующая эпоха\n",
      "Эпоха 8\n"
     ]
    },
    {
     "name": "stderr",
     "output_type": "stream",
     "text": [
      "88it [00:32,  2.72it/s]\n"
     ]
    },
    {
     "name": "stdout",
     "output_type": "stream",
     "text": [
      "Эпоха прошла за 32.4 секунд\n",
      "Средняя функция потерь для дискриминатора = 0.018974730124517173\n",
      "Средняя функция потерь для генератора = 9.028596639633179\n",
      "For the king and held up his hand. 'Good night!' he cried. 'Gandalf!' he cried. 'Gandalf!' he cried. 'Good-bye!' he\n",
      "Следующая эпоха\n",
      "Эпоха 9\n"
     ]
    },
    {
     "name": "stderr",
     "output_type": "stream",
     "text": [
      "88it [00:32,  2.72it/s]\n"
     ]
    },
    {
     "name": "stdout",
     "output_type": "stream",
     "text": [
      "Эпоха прошла за 32.35 секунд\n",
      "Средняя функция потерь для дискриминатора = 0.016849978292818625\n",
      "Средняя функция потерь для генератора = 9.67595187100497\n",
      "For the king and the power of the Lord of Mark, and the Mark of Mordor. The Ring is drawing near the Redhorn Galadriel, and\n",
      "Следующая эпоха\n",
      "Эпоха 10\n"
     ]
    },
    {
     "name": "stderr",
     "output_type": "stream",
     "text": [
      "88it [00:32,  2.72it/s]\n"
     ]
    },
    {
     "name": "stdout",
     "output_type": "stream",
     "text": [
      "Эпоха прошла за 32.31 секунд\n",
      "Средняя функция потерь для дискриминатора = 0.018156082010219423\n",
      "Средняя функция потерь для генератора = 9.69728444923054\n",
      "For the king and corner of the Sea. Only the Lady Galadriel speak of the Lady of Lothlorien, the Galadriel of the\n",
      "Следующая эпоха\n",
      "Эпоха 11\n"
     ]
    },
    {
     "name": "stderr",
     "output_type": "stream",
     "text": [
      "88it [00:32,  2.72it/s]\n"
     ]
    },
    {
     "name": "stdout",
     "output_type": "stream",
     "text": [
      "Эпоха прошла за 32.34 секунд\n",
      "Средняя функция потерь для дискриминатора = 0.014770974689202954\n",
      "Средняя функция потерь для генератора = 10.12381602417339\n",
      "For the king and the Lady Galadriel refindel, and the Golden Windel is now refrenown in the Emyn Muil, and the\n",
      "Следующая эпоха\n",
      "Эпоха 12\n"
     ]
    },
    {
     "name": "stderr",
     "output_type": "stream",
     "text": [
      "88it [00:32,  2.71it/s]\n"
     ]
    },
    {
     "name": "stdout",
     "output_type": "stream",
     "text": [
      "Эпоха прошла за 32.48 секунд\n",
      "Средняя функция потерь для дискриминатора = 0.013297808834481244\n",
      "Средняя функция потерь для генератора = 9.992048978805542\n",
      "For the king and his men of Rohan. Helm's Deeping the Gate. Helm's Gate is the Westfold, and the Wind of the Westf\n",
      "Следующая эпоха\n",
      "Эпоха 13\n"
     ]
    },
    {
     "name": "stderr",
     "output_type": "stream",
     "text": [
      "88it [00:32,  2.72it/s]\n"
     ]
    },
    {
     "name": "stdout",
     "output_type": "stream",
     "text": [
      "Эпоха прошла за 32.35 секунд\n",
      "Средняя функция потерь для дискриминатора = 0.015001414128412514\n",
      "Средняя функция потерь для генератора = 10.205712047490207\n",
      "For the king and corner of the Dwarves. One Ring-bearer! One Ring! One Ring-bearer! O! One Ring! O! O Elbe\n",
      "Следующая эпоха\n",
      "Эпоха 14\n"
     ]
    },
    {
     "name": "stderr",
     "output_type": "stream",
     "text": [
      "88it [00:32,  2.70it/s]\n"
     ]
    },
    {
     "name": "stdout",
     "output_type": "stream",
     "text": [
      "Эпоха прошла за 32.59 секунд\n",
      "Средняя функция потерь для дискриминатора = 0.011580926622462523\n",
      "Средняя функция потерь для генератора = 10.310669736428695\n",
      "For the king and the men of the Westfold, and the Dwarf-master of the Dark Lord of the Mountains of the Mark Tirith. For the Elves of\n",
      "Следующая эпоха\n",
      "Эпоха 15\n"
     ]
    },
    {
     "name": "stderr",
     "output_type": "stream",
     "text": [
      "88it [00:32,  2.71it/s]\n"
     ]
    },
    {
     "name": "stdout",
     "output_type": "stream",
     "text": [
      "Эпоха прошла за 32.51 секунд\n",
      "Средняя функция потерь для дискриминатора = 0.02095319534088379\n",
      "Средняя функция потерь для генератора = 11.094632463021712\n",
      "For the king and the White Mountains of the Dark Lord and the Mountains and the Mountains of Mordor, and the Mountains of Minas Tirith.\n",
      "Следующая эпоха\n",
      "Эпоха 16\n"
     ]
    },
    {
     "name": "stderr",
     "output_type": "stream",
     "text": [
      "88it [00:32,  2.70it/s]\n"
     ]
    },
    {
     "name": "stdout",
     "output_type": "stream",
     "text": [
      "Эпоха прошла за 32.55 секунд\n",
      "Средняя функция потерь для дискриминатора = 0.039132960487966724\n",
      "Средняя функция потерь для генератора = 8.224216417832809\n",
      "For the king and the fields of the Mark, and the Havens of the Eorlingas. The Men of Westernessemen had passed over the Sea\n",
      "Следующая эпоха\n",
      "Эпоха 17\n"
     ]
    },
    {
     "name": "stderr",
     "output_type": "stream",
     "text": [
      "88it [00:32,  2.73it/s]\n"
     ]
    },
    {
     "name": "stdout",
     "output_type": "stream",
     "text": [
      "Эпоха прошла за 32.29 секунд\n",
      "Средняя функция потерь для дискриминатора = 0.027519005350768566\n",
      "Средняя функция потерь для генератора = 8.314503572203897\n",
      "For the king and the food of the Silverlode flowed down into the West, and the Great River sweet up the Sea. After a while\n",
      "Следующая эпоха\n",
      "Эпоха 18\n"
     ]
    },
    {
     "name": "stderr",
     "output_type": "stream",
     "text": [
      "88it [00:32,  2.73it/s]\n"
     ]
    },
    {
     "name": "stdout",
     "output_type": "stream",
     "text": [
      "Эпоха прошла за 32.29 секунд\n",
      "Средняя функция потерь для дискриминатора = 0.020763458027927714\n",
      "Средняя функция потерь для генератора = 9.43449959971688\n",
      "For the king and counsel of the Enemy has grown. I am not sure of the Enemy has returned for many years, and the Third Marsh\n",
      "Следующая эпоха\n",
      "Эпоха 19\n"
     ]
    },
    {
     "name": "stderr",
     "output_type": "stream",
     "text": [
      "88it [00:32,  2.72it/s]\n"
     ]
    },
    {
     "name": "stdout",
     "output_type": "stream",
     "text": [
      "Эпоха прошла за 32.37 секунд\n",
      "Средняя функция потерь для дискриминатора = 0.028280656951458448\n",
      "Средняя функция потерь для генератора = 9.167461557821794\n",
      "For the king and the news of the Enemy's Days before the Days of Mordor, and the Mark Lord of the Mountains of Middle-ear\n",
      "Следующая эпоха\n",
      "Эпоха 20\n"
     ]
    },
    {
     "name": "stderr",
     "output_type": "stream",
     "text": [
      "88it [00:32,  2.70it/s]\n"
     ]
    },
    {
     "name": "stdout",
     "output_type": "stream",
     "text": [
      "Эпоха прошла за 32.61 секунд\n",
      "Средняя функция потерь для дискриминатора = 0.012687522403377277\n",
      "Средняя функция потерь для генератора = 9.8127685026689\n",
      "For the king and the fields of the Eastness of the North Westfold, the North, and the North West of the Westfold, and the\n",
      "Следующая эпоха\n",
      "Эпоха 21\n"
     ]
    },
    {
     "name": "stderr",
     "output_type": "stream",
     "text": [
      "88it [00:32,  2.72it/s]\n"
     ]
    },
    {
     "name": "stdout",
     "output_type": "stream",
     "text": [
      "Эпоха прошла за 32.36 секунд\n",
      "Средняя функция потерь для дискриминатора = 0.019692206433154006\n",
      "Средняя функция потерь для генератора = 10.296721480109476\n",
      "For the king and his companions of the Dark Lord, and the Lord of the Mark, and the Lord of the Mark Lord of Mordor. Alas\n",
      "Следующая эпоха\n",
      "Эпоха 22\n"
     ]
    },
    {
     "name": "stderr",
     "output_type": "stream",
     "text": [
      "88it [00:32,  2.72it/s]\n"
     ]
    },
    {
     "name": "stdout",
     "output_type": "stream",
     "text": [
      "Эпоха прошла за 32.39 секунд\n",
      "Средняя функция потерь для дискриминатора = 0.011748989026025149\n",
      "Средняя функция потерь для генератора = 11.274545387788253\n",
      "For the king and held up his hands and raising his hands upon his knees. 'Good!' he cried. 'Good-bye!' he cried. 'G\n",
      "Следующая эпоха\n",
      "Эпоха 23\n"
     ]
    },
    {
     "name": "stderr",
     "output_type": "stream",
     "text": [
      "88it [00:32,  2.72it/s]\n"
     ]
    },
    {
     "name": "stdout",
     "output_type": "stream",
     "text": [
      "Эпоха прошла за 32.31 секунд\n",
      "Средняя функция потерь для дискриминатора = 0.017150613225649893\n",
      "Средняя функция потерь для генератора = 11.277255643497814\n",
      "For the king and his companions of the Enemy. The Dark Lord of Glorfindel's son of Elendil's son of Elendil\n",
      "Следующая эпоха\n",
      "Эпоха 24\n"
     ]
    },
    {
     "name": "stderr",
     "output_type": "stream",
     "text": [
      "88it [00:32,  2.73it/s]\n"
     ]
    },
    {
     "name": "stdout",
     "output_type": "stream",
     "text": [
      "Эпоха прошла за 32.29 секунд\n",
      "Средняя функция потерь для дискриминатора = 0.013496578579757956\n",
      "Средняя функция потерь для генератора = 11.361814683133906\n",
      "For the king and his companions and the fathers of the Enemy's sword. The swords of Elendil's sword, the sword of Elendil's sword\n",
      "Следующая эпоха\n",
      "Эпоха 25\n"
     ]
    },
    {
     "name": "stderr",
     "output_type": "stream",
     "text": [
      "88it [00:32,  2.72it/s]\n"
     ]
    },
    {
     "name": "stdout",
     "output_type": "stream",
     "text": [
      "Эпоха прошла за 32.31 секунд\n",
      "Средняя функция потерь для дискриминатора = 0.013928531806331275\n",
      "Средняя функция потерь для генератора = 11.728328878229314\n",
      "For the king and the new-shadows lies upon the hills of the Emyn Muil, and the Mountains of the Emyn Muil. The Men of\n",
      "Следующая эпоха\n",
      "Эпоха 26\n"
     ]
    },
    {
     "name": "stderr",
     "output_type": "stream",
     "text": [
      "88it [00:32,  2.71it/s]\n"
     ]
    },
    {
     "name": "stdout",
     "output_type": "stream",
     "text": [
      "Эпоха прошла за 32.48 секунд\n",
      "Средняя функция потерь для дискриминатора = 0.024043578257326524\n",
      "Средняя функция потерь для генератора = 11.01086974143982\n",
      "For the king and the Dark Lord of Mordor, and the Mark of Minas Tirith. For the Third Marshal of Guldor, and the E\n",
      "Следующая эпоха\n",
      "Эпоха 27\n"
     ]
    },
    {
     "name": "stderr",
     "output_type": "stream",
     "text": [
      "88it [00:32,  2.70it/s]\n"
     ]
    },
    {
     "name": "stdout",
     "output_type": "stream",
     "text": [
      "Эпоха прошла за 32.54 секунд\n",
      "Средняя функция потерь для дискриминатора = 0.02977295968263537\n",
      "Средняя функция потерь для генератора = 10.124080441214822\n",
      "For the king and his companions were gathered together, and he looked at them with wonder. 'Farewell!' he said. 'Ride!' cried Glorfind\n",
      "Следующая эпоха\n",
      "Эпоха 28\n"
     ]
    },
    {
     "name": "stderr",
     "output_type": "stream",
     "text": [
      "88it [00:32,  2.70it/s]\n"
     ]
    },
    {
     "name": "stdout",
     "output_type": "stream",
     "text": [
      "Эпоха прошла за 32.58 секунд\n",
      "Средняя функция потерь для дискриминатора = 0.021527849288263082\n",
      "Средняя функция потерь для генератора = 10.404418349266052\n",
      "For the king and weariness, and the Dark Lord of Mordor, and the Lordor of Minas Tirith. For the Elves of Minas Tirith li\n",
      "Следующая эпоха\n",
      "Эпоха 29\n"
     ]
    },
    {
     "name": "stderr",
     "output_type": "stream",
     "text": [
      "88it [00:32,  2.73it/s]\n"
     ]
    },
    {
     "name": "stdout",
     "output_type": "stream",
     "text": [
      "Эпоха прошла за 32.28 секунд\n",
      "Средняя функция потерь для дискриминатора = 0.02691589607208946\n",
      "Средняя функция потерь для генератора = 10.07229232788086\n",
      "For the king and wearinches of the Dark Lord. Lord of Minas Tirith lie and the Lord of the Mark, and the Lord of the Mark\n",
      "Следующая эпоха\n",
      "Эпоха 30\n"
     ]
    },
    {
     "name": "stderr",
     "output_type": "stream",
     "text": [
      "88it [00:32,  2.73it/s]\n"
     ]
    },
    {
     "name": "stdout",
     "output_type": "stream",
     "text": [
      "Эпоха прошла за 32.29 секунд\n",
      "Средняя функция потерь для дискриминатора = 0.021243452841273127\n",
      "Средняя функция потерь для генератора = 10.709268840876492\n",
      "For the king and his menace was awake. His head was shining in his eyes; but his eyes were shining in his eyes, and his eyes glinted in the sunlight.\n",
      "Следующая эпоха\n",
      "Эпоха 31\n"
     ]
    },
    {
     "name": "stderr",
     "output_type": "stream",
     "text": [
      "88it [00:32,  2.73it/s]\n"
     ]
    },
    {
     "name": "stdout",
     "output_type": "stream",
     "text": [
      "Эпоха прошла за 32.29 секунд\n",
      "Средняя функция потерь для дискриминатора = 0.021167984359305014\n",
      "Средняя функция потерь для генератора = 11.015269463712519\n",
      "For the king and the prisoners of the Enemy has passed through the North, and the Nine Riders of Rohirrim, and the Third Mars\n",
      "Следующая эпоха\n",
      "Эпоха 32\n"
     ]
    },
    {
     "name": "stderr",
     "output_type": "stream",
     "text": [
      "88it [00:32,  2.72it/s]\n"
     ]
    },
    {
     "name": "stdout",
     "output_type": "stream",
     "text": [
      "Эпоха прошла за 32.39 секунд\n",
      "Средняя функция потерь для дискриминатора = 0.01655240340418955\n",
      "Средняя функция потерь для генератора = 10.575505180792375\n",
      "For the king and a great power of the Dark Lord in the Mountains of the Mountains of Minas Tirith, the Elf-lords of Elendil\n",
      "Следующая эпоха\n",
      "Эпоха 33\n"
     ]
    },
    {
     "name": "stderr",
     "output_type": "stream",
     "text": [
      "88it [00:32,  2.72it/s]\n"
     ]
    },
    {
     "name": "stdout",
     "output_type": "stream",
     "text": [
      "Эпоха прошла за 32.35 секунд\n",
      "Средняя функция потерь для дискриминатора = 0.011141116502006877\n",
      "Средняя функция потерь для генератора = 11.59712663563815\n",
      "For the king and his companions stood up to the gates of Orthanc, and the ruins of Isengard being given to Orthanc, and the\n",
      "Следующая эпоха\n",
      "Эпоха 34\n"
     ]
    },
    {
     "name": "stderr",
     "output_type": "stream",
     "text": [
      "88it [00:32,  2.72it/s]\n"
     ]
    },
    {
     "name": "stdout",
     "output_type": "stream",
     "text": [
      "Эпоха прошла за 32.34 секунд\n",
      "Средняя функция потерь для дискриминатора = 0.019570758240165145\n",
      "Средняя функция потерь для генератора = 11.516378966244785\n",
      "For the king and the menace of the Dark Lord, and the Mark of the Mountains of Minas Tirith, and the Dark Tower of Minas Tirith\n",
      "Следующая эпоха\n",
      "Эпоха 35\n"
     ]
    },
    {
     "name": "stderr",
     "output_type": "stream",
     "text": [
      "88it [00:32,  2.73it/s]\n"
     ]
    },
    {
     "name": "stdout",
     "output_type": "stream",
     "text": [
      "Эпоха прошла за 32.29 секунд\n",
      "Средняя функция потерь для дискриминатора = 0.021617301726192552\n",
      "Средняя функция потерь для генератора = 11.235284501856023\n",
      "For the king and his companions. He was sitting on the ground. He was awake, and the candle of the Moon was hidden from the Sea\n",
      "Следующая эпоха\n",
      "Эпоха 36\n"
     ]
    },
    {
     "name": "stderr",
     "output_type": "stream",
     "text": [
      "88it [00:32,  2.71it/s]\n"
     ]
    },
    {
     "name": "stdout",
     "output_type": "stream",
     "text": [
      "Эпоха прошла за 32.47 секунд\n",
      "Средняя функция потерь для дискриминатора = 0.016435334456962828\n",
      "Средняя функция потерь для генератора = 12.336534868587147\n",
      "For the king and the power of the West of the Ring passed over the Ring. One Ring to find them, One Ring-bearer and the Ring-bearer! One Ring to\n",
      "Следующая эпоха\n",
      "Эпоха 37\n"
     ]
    },
    {
     "name": "stderr",
     "output_type": "stream",
     "text": [
      "88it [00:32,  2.73it/s]\n"
     ]
    },
    {
     "name": "stdout",
     "output_type": "stream",
     "text": [
      "Эпоха прошла за 32.29 секунд\n",
      "Средняя функция потерь для дискриминатора = 0.022825684415610423\n",
      "Средняя функция потерь для генератора = 12.445024772123856\n",
      "For the king and the foes of the Dwarves, and the Elves of Men of Minas Tirith, and the Elves of Men of Gondor, and the West of the W\n",
      "Следующая эпоха\n",
      "Эпоха 38\n"
     ]
    },
    {
     "name": "stderr",
     "output_type": "stream",
     "text": [
      "88it [00:32,  2.70it/s]\n"
     ]
    },
    {
     "name": "stdout",
     "output_type": "stream",
     "text": [
      "Эпоха прошла за 32.56 секунд\n",
      "Средняя функция потерь для дискриминатора = 0.021306263210135512\n",
      "Средняя функция потерь для генератора = 12.743037527257746\n",
      "For the king and the power of the Enemy has been seen in the Eastfarthing in the Shire. I am afraid. I am not sure that I am not going to\n",
      "Следующая эпоха\n",
      "Эпоха 39\n"
     ]
    },
    {
     "name": "stderr",
     "output_type": "stream",
     "text": [
      "88it [00:32,  2.72it/s]\n"
     ]
    },
    {
     "name": "stdout",
     "output_type": "stream",
     "text": [
      "Эпоха прошла за 32.31 секунд\n",
      "Средняя функция потерь для дискриминатора = 0.029610475383048073\n",
      "Средняя функция потерь для генератора = 11.755933263085105\n",
      "For the king and held him his hands and his sword. 'Your Enemy has gone,' he said at last. `But I have not yet come to Minas Tirith\n",
      "Следующая эпоха\n",
      "Эпоха 40\n"
     ]
    },
    {
     "name": "stderr",
     "output_type": "stream",
     "text": [
      "88it [00:32,  2.73it/s]\n"
     ]
    },
    {
     "name": "stdout",
     "output_type": "stream",
     "text": [
      "Эпоха прошла за 32.29 секунд\n",
      "Средняя функция потерь для дискриминатора = 0.021017870130229065\n",
      "Средняя функция потерь для генератора = 10.72823772647164\n",
      "For the king and the Green Havens of the Elder Days of the Elder Days of Marshal, and the Third Marshal of\n",
      "Следующая эпоха\n",
      "Эпоха 41\n"
     ]
    },
    {
     "name": "stderr",
     "output_type": "stream",
     "text": [
      "88it [00:32,  2.73it/s]\n"
     ]
    },
    {
     "name": "stdout",
     "output_type": "stream",
     "text": [
      "Эпоха прошла за 32.21 секунд\n",
      "Средняя функция потерь для дискриминатора = 0.020182331922445552\n",
      "Средняя функция потерь для генератора = 11.339744697917592\n",
      "For the king and held up his hand. 'Yes,' he said; 'but I am afraid, I think. I am not going to tell you what I mean. I have heard of\n",
      "Следующая эпоха\n",
      "Эпоха 42\n"
     ]
    },
    {
     "name": "stderr",
     "output_type": "stream",
     "text": [
      "88it [00:32,  2.70it/s]\n"
     ]
    },
    {
     "name": "stdout",
     "output_type": "stream",
     "text": [
      "Эпоха прошла за 32.54 секунд\n",
      "Средняя функция потерь для дискриминатора = 0.01937251202947333\n",
      "Средняя функция потерь для генератора = 11.40880321372639\n",
      "For the king and his companions stood up, gazing at the sky. 'Untie! ' he cried. 'Up!' he cried. 'Maybe! We\n",
      "Следующая эпоха\n",
      "Эпоха 43\n"
     ]
    },
    {
     "name": "stderr",
     "output_type": "stream",
     "text": [
      "88it [00:32,  2.72it/s]\n"
     ]
    },
    {
     "name": "stdout",
     "output_type": "stream",
     "text": [
      "Эпоха прошла за 32.32 секунд\n",
      "Средняя функция потерь для дискриминатора = 0.012450076686615252\n",
      "Средняя функция потерь для генератора = 12.245419437235052\n",
      "For the king and the power of the Westfold, and the Ring passed through the Southfarthing to the Middle-earth, and the Sword of the Enem\n",
      "Следующая эпоха\n",
      "Эпоха 44\n"
     ]
    },
    {
     "name": "stderr",
     "output_type": "stream",
     "text": [
      "88it [00:32,  2.72it/s]\n"
     ]
    },
    {
     "name": "stdout",
     "output_type": "stream",
     "text": [
      "Эпоха прошла за 32.35 секунд\n",
      "Средняя функция потерь для дискриминатора = 0.01161000561147706\n",
      "Средняя функция потерь для генератора = 12.967443021860989\n",
      "For the king and the Great River flowed down into the Great River, and the Sea returned to the Great River, and the Great River flowed down\n",
      "Следующая эпоха\n",
      "Эпоха 45\n"
     ]
    },
    {
     "name": "stderr",
     "output_type": "stream",
     "text": [
      "88it [00:32,  2.72it/s]\n"
     ]
    },
    {
     "name": "stdout",
     "output_type": "stream",
     "text": [
      "Эпоха прошла за 32.36 секунд\n",
      "Средняя функция потерь для дискриминатора = 0.010044505700782545\n",
      "Средняя функция потерь для генератора = 13.688072031194514\n",
      "For the king and his companions stood up and gazed at the gates of Orthanc. 'Entil! ' said Legolas. 'Let us hope!' said Legolas.\n",
      "Следующая эпоха\n",
      "Эпоха 46\n"
     ]
    },
    {
     "name": "stderr",
     "output_type": "stream",
     "text": [
      "88it [00:32,  2.73it/s]\n"
     ]
    },
    {
     "name": "stdout",
     "output_type": "stream",
     "text": [
      "Эпоха прошла за 32.29 секунд\n",
      "Средняя функция потерь для дискриминатора = 0.025211075972368813\n",
      "Средняя функция потерь для генератора = 12.235533551736312\n",
      "For the king and the news of the Dark Lord, and the Lord of the Mark bearshal of the Enemy. The Ring of the Mark of Minas Tir\n",
      "Следующая эпоха\n",
      "Эпоха 47\n"
     ]
    },
    {
     "name": "stderr",
     "output_type": "stream",
     "text": [
      "88it [00:32,  2.72it/s]\n"
     ]
    },
    {
     "name": "stdout",
     "output_type": "stream",
     "text": [
      "Эпоха прошла за 32.38 секунд\n",
      "Средняя функция потерь для дискриминатора = 0.012193739881530002\n",
      "Средняя функция потерь для генератора = 13.383440375328064\n",
      "For the king and his companions of the Enemy. One by one heirl the Riders of Isildur's Bane, and the West of the Elder D\n",
      "Следующая эпоха\n",
      "Эпоха 48\n"
     ]
    },
    {
     "name": "stderr",
     "output_type": "stream",
     "text": [
      "88it [00:33,  2.64it/s]\n"
     ]
    },
    {
     "name": "stdout",
     "output_type": "stream",
     "text": [
      "Эпоха прошла за 33.31 секунд\n",
      "Средняя функция потерь для дискриминатора = 0.012945268061064946\n",
      "Средняя функция потерь для генератора = 13.690380421551792\n",
      "For the king and the Sun, and the Men of Westernesse. The Dark Lord of the Mark Lord of the Mark, and the Mark Tower of the M\n",
      "Следующая эпоха\n",
      "Эпоха 49\n"
     ]
    },
    {
     "name": "stderr",
     "output_type": "stream",
     "text": [
      "88it [00:32,  2.72it/s]\n"
     ]
    },
    {
     "name": "stdout",
     "output_type": "stream",
     "text": [
      "Эпоха прошла за 32.36 секунд\n",
      "Средняя функция потерь для дискриминатора = 0.017347623321256833\n",
      "Средняя функция потерь для генератора = 13.453139153393833\n",
      "For the king and burst into the West. There was a silence, and the gate of the Dark Lord in the Mountains of the Mountains of Middle-\n",
      "Следующая эпоха\n",
      "Эпоха 50\n"
     ]
    },
    {
     "name": "stderr",
     "output_type": "stream",
     "text": [
      "88it [00:32,  2.72it/s]\n"
     ]
    },
    {
     "name": "stdout",
     "output_type": "stream",
     "text": [
      "Эпоха прошла за 32.4 секунд\n",
      "Средняя функция потерь для дискриминатора = 0.016054538664320717\n",
      "Средняя функция потерь для генератора = 12.926788481799038\n",
      "For the king and dragons of the Enemy. The Dark Lord of Mordor was the Mountains of the Mountains of Mordor, and the Sea.\n",
      "Следующая эпоха\n",
      "Эпоха 51\n"
     ]
    },
    {
     "name": "stderr",
     "output_type": "stream",
     "text": [
      "88it [00:32,  2.72it/s]\n"
     ]
    },
    {
     "name": "stdout",
     "output_type": "stream",
     "text": [
      "Эпоха прошла за 32.33 секунд\n",
      "Средняя функция потерь для дискриминатора = 0.013903367037941776\n",
      "Средняя функция потерь для генератора = 13.62242929501967\n",
      "For the king and the food of the Ford of the Black Land, and the Ring-bearer,' he said to himself. `Here is a strange place,' he said. `\n",
      "Следующая эпоха\n",
      "Эпоха 52\n"
     ]
    },
    {
     "name": "stderr",
     "output_type": "stream",
     "text": [
      "88it [00:32,  2.72it/s]\n"
     ]
    },
    {
     "name": "stdout",
     "output_type": "stream",
     "text": [
      "Эпоха прошла за 32.36 секунд\n",
      "Средняя функция потерь для дискриминатора = 0.013573910845231942\n",
      "Средняя функция потерь для генератора = 14.02412829615853\n",
      "For the king and bubbled with a candle of pity, and the pale sky was growing on the borders of the land. An birds were cove\n",
      "Следующая эпоха\n",
      "Эпоха 53\n"
     ]
    },
    {
     "name": "stderr",
     "output_type": "stream",
     "text": [
      "88it [00:32,  2.70it/s]\n"
     ]
    },
    {
     "name": "stdout",
     "output_type": "stream",
     "text": [
      "Эпоха прошла за 32.56 секунд\n",
      "Средняя функция потерь для дискриминатора = 0.017070882667956703\n",
      "Средняя функция потерь для генератора = 14.084406592629172\n",
      "For the king and his companions, and the face of the Elf-lords of the Mountains of Minas Tirith, and the Sword of Elend\n",
      "Следующая эпоха\n",
      "Эпоха 54\n"
     ]
    },
    {
     "name": "stderr",
     "output_type": "stream",
     "text": [
      "88it [00:32,  2.73it/s]\n"
     ]
    },
    {
     "name": "stdout",
     "output_type": "stream",
     "text": [
      "Эпоха прошла за 32.27 секунд\n",
      "Средняя функция потерь для дискриминатора = 0.014129879810008622\n",
      "Средняя функция потерь для генератора = 14.636605230244724\n",
      "For the king and gathered together. `Here is the last night, I am afraid,' said Frodo. `Ach! ' said Sam. `And I'm afraid\n",
      "Следующая эпоха\n",
      "Эпоха 55\n"
     ]
    },
    {
     "name": "stderr",
     "output_type": "stream",
     "text": [
      "88it [00:32,  2.71it/s]\n"
     ]
    },
    {
     "name": "stdout",
     "output_type": "stream",
     "text": [
      "Эпоха прошла за 32.48 секунд\n",
      "Средняя функция потерь для дискриминатора = 0.01575884863400874\n",
      "Средняя функция потерь для генератора = 14.151846311309122\n",
      "For the king and burning with the corners. The horsemen had gone down the slopes of the hills and the hills of the Emyn Muil.\n",
      "Следующая эпоха\n",
      "Эпоха 56\n"
     ]
    },
    {
     "name": "stderr",
     "output_type": "stream",
     "text": [
      "88it [00:32,  2.71it/s]\n"
     ]
    },
    {
     "name": "stdout",
     "output_type": "stream",
     "text": [
      "Эпоха прошла за 32.44 секунд\n",
      "Средняя функция потерь для дискриминатора = 0.016393652016466313\n",
      "Средняя функция потерь для генератора = 14.55113952810114\n",
      "For the king and the Great River, and the Silverlode flowed away from the Southfarthing, and the Great River flowed down into the West\n",
      "Следующая эпоха\n",
      "Эпоха 57\n"
     ]
    },
    {
     "name": "stderr",
     "output_type": "stream",
     "text": [
      "88it [00:32,  2.72it/s]\n"
     ]
    },
    {
     "name": "stdout",
     "output_type": "stream",
     "text": [
      "Эпоха прошла за 32.4 секунд\n",
      "Средняя функция потерь для дискриминатора = 0.013782590402777052\n",
      "Средняя функция потерь для генератора = 14.505401914769953\n",
      "For the king and the Dark Lord of Mordor, and the Enemy knows of the Wild, and the Third Marshor, the Third Marsh\n",
      "Следующая эпоха\n",
      "Эпоха 58\n"
     ]
    },
    {
     "name": "stderr",
     "output_type": "stream",
     "text": [
      "88it [00:32,  2.70it/s]\n"
     ]
    },
    {
     "name": "stdout",
     "output_type": "stream",
     "text": [
      "Эпоха прошла за 32.54 секунд\n",
      "Средняя функция потерь для дискриминатора = 0.014812135377393464\n",
      "Средняя функция потерь для генератора = 14.225547823038967\n",
      "For the king and the river-burgreaded the bank. There was a silence, for a moment upon the doorstep of the door. All had come back to the\n",
      "Следующая эпоха\n",
      "Эпоха 59\n"
     ]
    },
    {
     "name": "stderr",
     "output_type": "stream",
     "text": [
      "88it [00:32,  2.73it/s]\n"
     ]
    },
    {
     "name": "stdout",
     "output_type": "stream",
     "text": [
      "Эпоха прошла за 32.27 секунд\n",
      "Средняя функция потерь для дискриминатора = 0.016556920279650843\n",
      "Средняя функция потерь для генератора = 13.79366159439087\n",
      "For the king and his menace. For a moment I am afraid it will be safe for a while, and I am afraid. I am glad to see you again! ' He\n",
      "Следующая эпоха\n",
      "Эпоха 60\n"
     ]
    },
    {
     "name": "stderr",
     "output_type": "stream",
     "text": [
      "88it [00:32,  2.73it/s]\n"
     ]
    },
    {
     "name": "stdout",
     "output_type": "stream",
     "text": [
      "Эпоха прошла за 32.23 секунд\n",
      "Средняя функция потерь для дискриминатора = 0.020440041828723308\n",
      "Средняя функция потерь для генератора = 14.002073515545238\n",
      "For the king and dwelling of the Enemy would be destroyed.' 'Then let us go,' said Gimli. 'Let us go!' said Legolas. 'This is\n",
      "Следующая эпоха\n",
      "Эпоха 61\n"
     ]
    },
    {
     "name": "stderr",
     "output_type": "stream",
     "text": [
      "88it [00:32,  2.70it/s]\n"
     ]
    },
    {
     "name": "stdout",
     "output_type": "stream",
     "text": [
      "Эпоха прошла за 32.54 секунд\n",
      "Средняя функция потерь для дискриминатора = 0.015155926068142766\n",
      "Средняя функция потерь для генератора = 13.53139113296162\n",
      "For the king and the fogs of the Enemy's Days before the Days of the Dark Lord of Mordor, the Mountains of Middle-\n",
      "Следующая эпоха\n",
      "Эпоха 62\n"
     ]
    },
    {
     "name": "stderr",
     "output_type": "stream",
     "text": [
      "88it [00:32,  2.72it/s]\n"
     ]
    },
    {
     "name": "stdout",
     "output_type": "stream",
     "text": [
      "Эпоха прошла за 32.34 секунд\n",
      "Средняя функция потерь для дискриминатора = 0.022104590290175773\n",
      "Средняя функция потерь для генератора = 13.616857886314392\n",
      "For the king and the power of the Enemy has gone with him.' 'Gandalf!' said Gandalf. 'Do you know that you know him?' 'I do not know,' answered Gandalf. 'But I\n",
      "Следующая эпоха\n",
      "Эпоха 63\n"
     ]
    },
    {
     "name": "stderr",
     "output_type": "stream",
     "text": [
      "88it [00:32,  2.70it/s]\n"
     ]
    },
    {
     "name": "stdout",
     "output_type": "stream",
     "text": [
      "Эпоха прошла за 32.56 секунд\n",
      "Средняя функция потерь для дискриминатора = 0.023610043414175216\n",
      "Средняя функция потерь для генератора = 12.460245956074107\n",
      "For the king and the Enemy has gone, and the Ring has grown. The Thirst of the Third Marshal of Minas Tirith, and the Ring\n",
      "Следующая эпоха\n",
      "Эпоха 64\n"
     ]
    },
    {
     "name": "stderr",
     "output_type": "stream",
     "text": [
      "88it [00:32,  2.71it/s]\n"
     ]
    },
    {
     "name": "stdout",
     "output_type": "stream",
     "text": [
      "Эпоха прошла за 32.51 секунд\n",
      "Средняя функция потерь для дискриминатора = 0.02439638671586925\n",
      "Средняя функция потерь для генератора = 13.193992549722845\n",
      "For the king and the faithless slimmer of the Enemy's Days before the Mountains of Mordor, the Mark of Minas Tirith.\n",
      "Следующая эпоха\n",
      "Эпоха 65\n"
     ]
    },
    {
     "name": "stderr",
     "output_type": "stream",
     "text": [
      "88it [00:32,  2.72it/s]\n"
     ]
    },
    {
     "name": "stdout",
     "output_type": "stream",
     "text": [
      "Эпоха прошла за 32.38 секунд\n",
      "Средняя функция потерь для дискриминатора = 0.020561624242955902\n",
      "Средняя функция потерь для генератора = 13.87924523787065\n",
      "For the king and the White Tower of Mordor, and the Mountains of Middle-earth, and the Silverlode of the Second Age of\n",
      "Следующая эпоха\n",
      "Эпоха 66\n"
     ]
    },
    {
     "name": "stderr",
     "output_type": "stream",
     "text": [
      "88it [00:32,  2.70it/s]\n"
     ]
    },
    {
     "name": "stdout",
     "output_type": "stream",
     "text": [
      "Эпоха прошла за 32.57 секунд\n",
      "Средняя функция потерь для дискриминатора = 0.016730160830113826\n",
      "Средняя функция потерь для генератора = 13.420623746785251\n",
      "For the king and the pursuit of the Dark Lord and the Green House of Elendil, and the Elf-lords of Elendil and the\n",
      "Следующая эпоха\n",
      "Эпоха 67\n"
     ]
    },
    {
     "name": "stderr",
     "output_type": "stream",
     "text": [
      "88it [00:32,  2.72it/s]\n"
     ]
    },
    {
     "name": "stdout",
     "output_type": "stream",
     "text": [
      "Эпоха прошла за 32.34 секунд\n",
      "Средняя функция потерь для дискриминатора = 0.014811726524137404\n",
      "Средняя функция потерь для генератора = 14.254975232211025\n",
      "For the king and gathered on the borders of the Rohan, and the horsemen of the Ridermark. The horsemen of Rohan sprang up\n",
      "Следующая эпоха\n",
      "Эпоха 68\n"
     ]
    },
    {
     "name": "stderr",
     "output_type": "stream",
     "text": [
      "88it [00:32,  2.72it/s]\n"
     ]
    },
    {
     "name": "stdout",
     "output_type": "stream",
     "text": [
      "Эпоха прошла за 32.36 секунд\n",
      "Средняя функция потерь для дискриминатора = 0.021004614936166698\n",
      "Средняя функция потерь для генератора = 13.983697511933066\n",
      "For the king and awake. There is no sign of hoofs, and there is no sound of hoofs or worse.' `No, no! ' said Sam. `But\n",
      "Следующая эпоха\n",
      "Эпоха 69\n"
     ]
    },
    {
     "name": "stderr",
     "output_type": "stream",
     "text": [
      "88it [00:32,  2.72it/s]\n"
     ]
    },
    {
     "name": "stdout",
     "output_type": "stream",
     "text": [
      "Эпоха прошла за 32.31 секунд\n",
      "Средняя функция потерь для дискриминатора = 0.02043363480069357\n",
      "Средняя функция потерь для генератора = 14.754297148097645\n",
      "For the king and shapes of the Dunedain of the Dark Lord, and the Mark Lordor, and the Mountains of Mordor, and the Mark, and\n",
      "Следующая эпоха\n",
      "Эпоха 70\n"
     ]
    },
    {
     "name": "stderr",
     "output_type": "stream",
     "text": [
      "88it [00:32,  2.71it/s]\n"
     ]
    },
    {
     "name": "stdout",
     "output_type": "stream",
     "text": [
      "Эпоха прошла за 32.47 секунд\n",
      "Средняя функция потерь для дискриминатора = 0.019244981872775083\n",
      "Средняя функция потерь для генератора = 14.376947728070347\n",
      "For the king and held up his hand. `Here is a matter of fact,' said Gandalf. `That is it? ' `Yet it is a matter of fact that I\n",
      "Следующая эпоха\n",
      "Эпоха 71\n"
     ]
    },
    {
     "name": "stderr",
     "output_type": "stream",
     "text": [
      "88it [00:32,  2.72it/s]\n"
     ]
    },
    {
     "name": "stdout",
     "output_type": "stream",
     "text": [
      "Эпоха прошла за 32.41 секунд\n",
      "Средняя функция потерь для дискриминатора = 0.022163281701068627\n",
      "Средняя функция потерь для генератора = 14.566612221977927\n",
      "For the king and his companions stood up and raised his sword, and he looked at the bow. 'Yes,' he said; 'but I am not going to be\n",
      "Следующая эпоха\n",
      "Эпоха 72\n"
     ]
    },
    {
     "name": "stderr",
     "output_type": "stream",
     "text": [
      "88it [00:32,  2.71it/s]\n"
     ]
    },
    {
     "name": "stdout",
     "output_type": "stream",
     "text": [
      "Эпоха прошла за 32.43 секунд\n",
      "Средняя функция потерь для дискриминатора = 0.02534530811416599\n",
      "Средняя функция потерь для генератора = 14.594224973158402\n",
      "For the king and his companions of the Hobbiton had given in the Shire. The Bree-folk called Bree-landers, and the Bree-landers,\n",
      "Следующая эпоха\n",
      "Эпоха 73\n"
     ]
    },
    {
     "name": "stderr",
     "output_type": "stream",
     "text": [
      "88it [00:32,  2.72it/s]\n"
     ]
    },
    {
     "name": "stdout",
     "output_type": "stream",
     "text": [
      "Эпоха прошла за 32.31 секунд\n",
      "Средняя функция потерь для дискриминатора = 0.017671480862190947\n",
      "Средняя функция потерь для генератора = 13.748749949715354\n",
      "For the king and shape of the Dwarf-kings of the Dwarf-lords of the Dark Lord, and the Mark Lord of the Mordor. The\n",
      "Следующая эпоха\n",
      "Эпоха 74\n"
     ]
    },
    {
     "name": "stderr",
     "output_type": "stream",
     "text": [
      "88it [00:32,  2.71it/s]\n"
     ]
    },
    {
     "name": "stdout",
     "output_type": "stream",
     "text": [
      "Эпоха прошла за 32.5 секунд\n",
      "Средняя функция потерь для дискриминатора = 0.012695412474634148\n",
      "Средняя функция потерь для генератора = 13.809921102090316\n",
      "For the king and gazed at the end of a great gate of the River. After a while he spoke, and then he turned to the Company. After a while he spoke\n",
      "Следующая эпоха\n",
      "Эпоха 75\n"
     ]
    },
    {
     "name": "stderr",
     "output_type": "stream",
     "text": [
      "88it [00:32,  2.71it/s]\n"
     ]
    },
    {
     "name": "stdout",
     "output_type": "stream",
     "text": [
      "Эпоха прошла за 32.53 секунд\n",
      "Средняя функция потерь для дискриминатора = 0.018211392003153873\n",
      "Средняя функция потерь для генератора = 13.76885170286352\n",
      "For the king and was a great power of the Dark Lord of the Mark Lordor, and the Mountains of Mordor, and the Enemy's Days of\n",
      "Следующая эпоха\n",
      "Эпоха 76\n"
     ]
    },
    {
     "name": "stderr",
     "output_type": "stream",
     "text": [
      "88it [00:32,  2.72it/s]\n"
     ]
    },
    {
     "name": "stdout",
     "output_type": "stream",
     "text": [
      "Эпоха прошла за 32.32 секунд\n",
      "Средняя функция потерь для дискриминатора = 0.01841184867821126\n",
      "Средняя функция потерь для генератора = 14.230069171298634\n",
      "For the king and his companions stood silent. _Chapter 8_ The Barrow-downs of the Brandywine Bridge of Brandyw\n",
      "Следующая эпоха\n",
      "Эпоха 77\n"
     ]
    },
    {
     "name": "stderr",
     "output_type": "stream",
     "text": [
      "88it [00:32,  2.73it/s]\n"
     ]
    },
    {
     "name": "stdout",
     "output_type": "stream",
     "text": [
      "Эпоха прошла за 32.25 секунд\n",
      "Средняя функция потерь для дискриминатора = 0.01850783851510972\n",
      "Средняя функция потерь для генератора = 14.481283567168497\n",
      "For the king and beneath the Sea, and the Silverlode passed into the Great River, and the Great River flowed up into the West.\n",
      "Следующая эпоха\n",
      "Эпоха 78\n"
     ]
    },
    {
     "name": "stderr",
     "output_type": "stream",
     "text": [
      "88it [00:32,  2.71it/s]\n"
     ]
    },
    {
     "name": "stdout",
     "output_type": "stream",
     "text": [
      "Эпоха прошла за 32.48 секунд\n",
      "Средняя функция потерь для дискриминатора = 0.011202011153066203\n",
      "Средняя функция потерь для генератора = 15.287845774130387\n",
      "For the king and the fields of Men and the Westfold of the Westfold, the Westfold of the Dark Lord of Middle-earth, and the\n",
      "Следующая эпоха\n",
      "Эпоха 79\n"
     ]
    },
    {
     "name": "stderr",
     "output_type": "stream",
     "text": [
      "88it [00:32,  2.73it/s]\n"
     ]
    },
    {
     "name": "stdout",
     "output_type": "stream",
     "text": [
      "Эпоха прошла за 32.29 секунд\n",
      "Средняя функция потерь для дискриминатора = 0.01876327564869743\n",
      "Средняя функция потерь для генератора = 16.172947200861845\n",
      "For the king and held up the corner of the Emyn Muil, the Mountains of the Mountains, and the Eastfarthing, and the Eastfar\n",
      "Следующая эпоха\n",
      "Эпоха 80\n"
     ]
    },
    {
     "name": "stderr",
     "output_type": "stream",
     "text": [
      "88it [00:32,  2.71it/s]\n"
     ]
    },
    {
     "name": "stdout",
     "output_type": "stream",
     "text": [
      "Эпоха прошла за 32.52 секунд\n",
      "Средняя функция потерь для дискриминатора = 0.018060319183198524\n",
      "Средняя функция потерь для генератора = 14.773321303454312\n",
      "For the king and the men of the White Mountains, and the Dark Lords of Minas Tirith.' `You speak of the Lord of Gondor,' said Faramir\n",
      "Следующая эпоха\n",
      "Эпоха 81\n"
     ]
    },
    {
     "name": "stderr",
     "output_type": "stream",
     "text": [
      "88it [00:32,  2.72it/s]\n"
     ]
    },
    {
     "name": "stdout",
     "output_type": "stream",
     "text": [
      "Эпоха прошла за 32.38 секунд\n",
      "Средняя функция потерь для дискриминатора = 0.029267645111262522\n",
      "Средняя функция потерь для генератора = 14.436037410389293\n",
      "For the king and the news of the East West, and the North Windred, and the Nine Riders of Rohan, the West of the Westmarch\n",
      "Следующая эпоха\n",
      "Эпоха 82\n"
     ]
    },
    {
     "name": "stderr",
     "output_type": "stream",
     "text": [
      "88it [00:32,  2.70it/s]\n"
     ]
    },
    {
     "name": "stdout",
     "output_type": "stream",
     "text": [
      "Эпоха прошла за 32.57 секунд\n",
      "Средняя функция потерь для дискриминатора = 0.020811363391906278\n",
      "Средняя функция потерь для генератора = 13.33712578903545\n",
      "For the king and shapes of the Dark Lord of Mordor, and the Mark of Mordor, and the East Windred Lord of Minas Tirith.\n",
      "Следующая эпоха\n",
      "Эпоха 83\n"
     ]
    },
    {
     "name": "stderr",
     "output_type": "stream",
     "text": [
      "88it [00:32,  2.71it/s]\n"
     ]
    },
    {
     "name": "stdout",
     "output_type": "stream",
     "text": [
      "Эпоха прошла за 32.51 секунд\n",
      "Средняя функция потерь для дискриминатора = 0.020577016559069638\n",
      "Средняя функция потерь для генератора = 13.907291769981384\n",
      "For the king and held his sword, and his hand was cloaked in his hand. 'Look!' said Gandalf. 'Gollum!' he said. 'Go on!' he cried. 'G\n",
      "Следующая эпоха\n",
      "Эпоха 84\n"
     ]
    },
    {
     "name": "stderr",
     "output_type": "stream",
     "text": [
      "88it [00:32,  2.71it/s]\n"
     ]
    },
    {
     "name": "stdout",
     "output_type": "stream",
     "text": [
      "Эпоха прошла за 32.43 секунд\n",
      "Средняя функция потерь для дискриминатора = 0.018203034667583943\n",
      "Средняя функция потерь для генератора = 14.000798052007502\n",
      "For the king and his companions, and he was continued. He felt a singingle comfortable chair, and he had a chance of escape from\n",
      "Следующая эпоха\n",
      "Эпоха 85\n"
     ]
    },
    {
     "name": "stderr",
     "output_type": "stream",
     "text": [
      "88it [00:32,  2.73it/s]\n"
     ]
    },
    {
     "name": "stdout",
     "output_type": "stream",
     "text": [
      "Эпоха прошла за 32.29 секунд\n",
      "Средняя функция потерь для дискриминатора = 0.025340200782176744\n",
      "Средняя функция потерь для генератора = 12.85465914552862\n",
      "For the king and his companions stood silent, and the gazing of the Elf-lords of Elendil, and the sword of the Emyn Mu\n",
      "Следующая эпоха\n",
      "Эпоха 86\n"
     ]
    },
    {
     "name": "stderr",
     "output_type": "stream",
     "text": [
      "88it [00:32,  2.72it/s]\n"
     ]
    },
    {
     "name": "stdout",
     "output_type": "stream",
     "text": [
      "Эпоха прошла за 32.33 секунд\n",
      "Средняя функция потерь для дискриминатора = 0.025649158558570143\n",
      "Средняя функция потерь для генератора = 12.862808661027389\n",
      "For the king and held up his hand. 'Gandalf!' he cried. 'Gandalf!' he cried. 'Yes,' said Legolas. 'My heart desires me.' 'M\n",
      "Следующая эпоха\n",
      "Эпоха 87\n"
     ]
    },
    {
     "name": "stderr",
     "output_type": "stream",
     "text": [
      "88it [00:32,  2.70it/s]\n"
     ]
    },
    {
     "name": "stdout",
     "output_type": "stream",
     "text": [
      "Эпоха прошла за 32.57 секунд\n",
      "Средняя функция потерь для дискриминатора = 0.016406735731090357\n",
      "Средняя функция потерь для генератора = 13.876847928220576\n",
      "For the king and weapons and the Dark Lord, and the Greyflood of the Dark Lord, and the Great River flows of Galadrie\n",
      "Следующая эпоха\n",
      "Эпоха 88\n"
     ]
    },
    {
     "name": "stderr",
     "output_type": "stream",
     "text": [
      "88it [00:32,  2.72it/s]\n"
     ]
    },
    {
     "name": "stdout",
     "output_type": "stream",
     "text": [
      "Эпоха прошла за 32.32 секунд\n",
      "Средняя функция потерь для дискриминатора = 0.025767747062094382\n",
      "Средняя функция потерь для генератора = 13.988967689600857\n",
      "For the king and the river-westward slopes towards the hill. The hobbits saw that they were gathered to the borders of the mountains were crowned with a great\n",
      "Следующая эпоха\n",
      "Эпоха 89\n"
     ]
    },
    {
     "name": "stderr",
     "output_type": "stream",
     "text": [
      "88it [00:32,  2.70it/s]\n"
     ]
    },
    {
     "name": "stdout",
     "output_type": "stream",
     "text": [
      "Эпоха прошла за 32.54 секунд\n",
      "Средняя функция потерь для дискриминатора = 0.031142362371280218\n",
      "Средняя функция потерь для генератора = 13.535134293816306\n",
      "For the king and the power of the Enemy has grown. But if it is not the Ring to be destroyed in the Ring.' `No,' said Frodo, `but\n",
      "Следующая эпоха\n",
      "Эпоха 90\n"
     ]
    },
    {
     "name": "stderr",
     "output_type": "stream",
     "text": [
      "88it [00:32,  2.73it/s]\n"
     ]
    },
    {
     "name": "stdout",
     "output_type": "stream",
     "text": [
      "Эпоха прошла за 32.23 секунд\n",
      "Средняя функция потерь для дискриминатора = 0.021746716751791115\n",
      "Средняя функция потерь для генератора = 13.491871151057156\n",
      "For the king and the fields of the White Riders of Lorien, and the Lady Galadriel speak of the Lady Galadriel. For the Lady of\n",
      "Следующая эпоха\n",
      "Эпоха 91\n"
     ]
    },
    {
     "name": "stderr",
     "output_type": "stream",
     "text": [
      "88it [00:32,  2.73it/s]\n"
     ]
    },
    {
     "name": "stdout",
     "output_type": "stream",
     "text": [
      "Эпоха прошла за 32.29 секунд\n",
      "Средняя функция потерь для дискриминатора = 0.02029517954625507\n",
      "Средняя функция потерь для генератора = 13.74725219336423\n",
      "For the king and the Dark Lord of Mordor, and the Mark of the Mark of Minas Tirith, the Ringwraiths of the Enemy? '\n",
      "Следующая эпоха\n",
      "Эпоха 92\n"
     ]
    },
    {
     "name": "stderr",
     "output_type": "stream",
     "text": [
      "88it [00:32,  2.70it/s]\n"
     ]
    },
    {
     "name": "stdout",
     "output_type": "stream",
     "text": [
      "Эпоха прошла за 32.55 секунд\n",
      "Средняя функция потерь для дискриминатора = 0.02126080697185402\n",
      "Средняя функция потерь для генератора = 14.318654840642756\n",
      "For the king and the fields of the Emyn Muil, and the Elf-lords of the Elder Days of the Westernesse. The\n",
      "Следующая эпоха\n",
      "Эпоха 93\n"
     ]
    },
    {
     "name": "stderr",
     "output_type": "stream",
     "text": [
      "88it [00:32,  2.70it/s]\n"
     ]
    },
    {
     "name": "stdout",
     "output_type": "stream",
     "text": [
      "Эпоха прошла за 32.54 секунд\n",
      "Средняя функция потерь для дискриминатора = 0.024297599974405868\n",
      "Средняя функция потерь для генератора = 14.401055606928738\n",
      "For the king and men of the Dwarf-kingdom, and the king's son of Arathorn, and the king's son of Elendil's son\n",
      "Следующая эпоха\n",
      "Эпоха 94\n"
     ]
    },
    {
     "name": "stderr",
     "output_type": "stream",
     "text": [
      "88it [00:32,  2.72it/s]\n"
     ]
    },
    {
     "name": "stdout",
     "output_type": "stream",
     "text": [
      "Эпоха прошла за 32.32 секунд\n",
      "Средняя функция потерь для дискриминатора = 0.026410515242539324\n",
      "Средняя функция потерь для генератора = 14.237019614739852\n",
      "For the king and dwindled into the West of the Dark Lord. All the Mountains of the Mountains and the East Windlords of the Mark,\n",
      "Следующая эпоха\n",
      "Эпоха 95\n"
     ]
    },
    {
     "name": "stderr",
     "output_type": "stream",
     "text": [
      "88it [00:32,  2.72it/s]\n"
     ]
    },
    {
     "name": "stdout",
     "output_type": "stream",
     "text": [
      "Эпоха прошла за 32.33 секунд\n",
      "Средняя функция потерь для дискриминатора = 0.014667905276589656\n",
      "Средняя функция потерь для генератора = 13.96765568039634\n",
      "For the king and the corner of the Silverlode flowed down into the Great River, and the Great River flowed down into the Gates of the\n",
      "Следующая эпоха\n",
      "Эпоха 96\n"
     ]
    },
    {
     "name": "stderr",
     "output_type": "stream",
     "text": [
      "88it [00:32,  2.70it/s]\n"
     ]
    },
    {
     "name": "stdout",
     "output_type": "stream",
     "text": [
      "Эпоха прошла за 32.53 секунд\n",
      "Средняя функция потерь для дискриминатора = 0.010656880143208335\n",
      "Средняя функция потерь для генератора = 14.241975350813432\n",
      "For the king and his companions of the House of Elrond, and the Hobbits of the Third Marshal Men of Gondor. For the Hobbits of the\n",
      "Следующая эпоха\n",
      "Эпоха 97\n"
     ]
    },
    {
     "name": "stderr",
     "output_type": "stream",
     "text": [
      "88it [00:32,  2.71it/s]\n"
     ]
    },
    {
     "name": "stdout",
     "output_type": "stream",
     "text": [
      "Эпоха прошла за 32.52 секунд\n",
      "Средняя функция потерь для дискриминатора = 0.02278913750143891\n",
      "Средняя функция потерь для генератора = 14.038268186829306\n",
      "For the king and his companions of the Hornburg, and the Halfling of the Enemy's Days of the Mountains of the Enemy\n",
      "Следующая эпоха\n",
      "Эпоха 98\n"
     ]
    },
    {
     "name": "stderr",
     "output_type": "stream",
     "text": [
      "88it [00:32,  2.70it/s]\n"
     ]
    },
    {
     "name": "stdout",
     "output_type": "stream",
     "text": [
      "Эпоха прошла за 32.58 секунд\n",
      "Средняя функция потерь для дискриминатора = 0.02864628122320441\n",
      "Средняя функция потерь для генератора = 13.405526627193797\n",
      "For the king and his men were drawing near to the borders of Lorien, and the Elves of Mordor. Their horses were drawing from Isengard\n",
      "Следующая эпоха\n",
      "Эпоха 99\n"
     ]
    },
    {
     "name": "stderr",
     "output_type": "stream",
     "text": [
      "88it [00:32,  2.72it/s]\n"
     ]
    },
    {
     "name": "stdout",
     "output_type": "stream",
     "text": [
      "Эпоха прошла за 32.36 секунд\n",
      "Средняя функция потерь для дискриминатора = 0.02855051524172516\n",
      "Средняя функция потерь для генератора = 12.151265772906216\n",
      "For the king and a great horse coming of Rohan, and the horsemen of Rohan, and the horses of Rohan sprang up from the Emyn\n",
      "Следующая эпоха\n",
      "Эпоха 100\n"
     ]
    },
    {
     "name": "stderr",
     "output_type": "stream",
     "text": [
      "88it [00:32,  2.72it/s]\n"
     ]
    },
    {
     "name": "stdout",
     "output_type": "stream",
     "text": [
      "Эпоха прошла за 32.33 секунд\n",
      "Средняя функция потерь для дискриминатора = 0.023780907137816856\n",
      "Средняя функция потерь для генератора = 12.551100936802952\n",
      "For the king and the power of the Enemy is found in the West. I am not sure of the Ringwraiths of the Enemy's Days of the\n",
      "Следующая эпоха\n",
      "Эпоха 101\n"
     ]
    },
    {
     "name": "stderr",
     "output_type": "stream",
     "text": [
      "88it [00:32,  2.70it/s]\n"
     ]
    },
    {
     "name": "stdout",
     "output_type": "stream",
     "text": [
      "Эпоха прошла за 32.59 секунд\n",
      "Средняя функция потерь для дискриминатора = 0.02451959738788322\n",
      "Средняя функция потерь для генератора = 13.227216568860142\n",
      "For the king and aware of the Dark Lord, and the Mark Lord of the Mark, and the Mountains of Minas Tirith. Tirith of the Ring\n",
      "Следующая эпоха\n",
      "Эпоха 102\n"
     ]
    },
    {
     "name": "stderr",
     "output_type": "stream",
     "text": [
      "88it [00:32,  2.73it/s]\n"
     ]
    },
    {
     "name": "stdout",
     "output_type": "stream",
     "text": [
      "Эпоха прошла за 32.28 секунд\n",
      "Средняя функция потерь для дискриминатора = 0.017400884786514904\n",
      "Средняя функция потерь для генератора = 13.287340370091526\n",
      "For the king and held up his sword. 'Yes,' he said; 'and I am afraid, and I am afraid. I am not going to see you, and I am not going\n",
      "Следующая эпоха\n",
      "Эпоха 103\n"
     ]
    },
    {
     "name": "stderr",
     "output_type": "stream",
     "text": [
      "88it [00:32,  2.72it/s]\n"
     ]
    },
    {
     "name": "stdout",
     "output_type": "stream",
     "text": [
      "Эпоха прошла за 32.31 секунд\n",
      "Средняя функция потерь для дискриминатора = 0.01588354000440714\n",
      "Средняя функция потерь для генератора = 13.97788428176533\n",
      "For the king and his men of the Dark Lord, and the Lord of Mordor, and the Mark of the Mark, and the East Westfold, the Mountains\n",
      "Следующая эпоха\n",
      "Эпоха 104\n"
     ]
    },
    {
     "name": "stderr",
     "output_type": "stream",
     "text": [
      "88it [00:32,  2.70it/s]\n"
     ]
    },
    {
     "name": "stdout",
     "output_type": "stream",
     "text": [
      "Эпоха прошла за 32.54 секунд\n",
      "Средняя функция потерь для дискриминатора = 0.018557529788019812\n",
      "Средняя функция потерь для генератора = 14.144911354238337\n",
      "For the king and the Dark Lord of the Mark, and the Dark Lord of Mordor, and the Mark of Middle-earth, and the Ring passed over the S\n",
      "Следующая эпоха\n",
      "Эпоха 105\n"
     ]
    },
    {
     "name": "stderr",
     "output_type": "stream",
     "text": [
      "88it [00:32,  2.72it/s]\n"
     ]
    },
    {
     "name": "stdout",
     "output_type": "stream",
     "text": [
      "Эпоха прошла за 32.35 секунд\n",
      "Средняя функция потерь для дискриминатора = 0.023577035093611896\n",
      "Средняя функция потерь для генератора = 14.351167039437728\n",
      "For the king and his companions. He had no longer hearing. He was sitting in the darkness, but he did not know what he had told him; but he did not\n",
      "Следующая эпоха\n",
      "Эпоха 106\n"
     ]
    },
    {
     "name": "stderr",
     "output_type": "stream",
     "text": [
      "88it [00:32,  2.71it/s]\n"
     ]
    },
    {
     "name": "stdout",
     "output_type": "stream",
     "text": [
      "Эпоха прошла за 32.45 секунд\n",
      "Средняя функция потерь для дискриминатора = 0.017039074177691047\n",
      "Средняя функция потерь для генератора = 13.817790269851685\n",
      "For the king and his faithful estriment-hawaits of the Dark Lord. After some time he spoke of the Lord of Galadrie\n",
      "Следующая эпоха\n",
      "Эпоха 107\n"
     ]
    },
    {
     "name": "stderr",
     "output_type": "stream",
     "text": [
      "88it [00:32,  2.72it/s]\n"
     ]
    },
    {
     "name": "stdout",
     "output_type": "stream",
     "text": [
      "Эпоха прошла за 32.31 секунд\n",
      "Средняя функция потерь для дискриминатора = 0.010214308861825637\n",
      "Средняя функция потерь для генератора = 14.137749769470908\n",
      "For the king and the Dark Lord of the Mark Lord of the Mark, and the Mountains of Minas Tirith. For the Elves of Gondor, and the D\n",
      "Следующая эпоха\n",
      "Эпоха 108\n"
     ]
    },
    {
     "name": "stderr",
     "output_type": "stream",
     "text": [
      "88it [00:32,  2.71it/s]\n"
     ]
    },
    {
     "name": "stdout",
     "output_type": "stream",
     "text": [
      "Эпоха прошла за 32.51 секунд\n",
      "Средняя функция потерь для дискриминатора = 0.01181909049178516\n",
      "Средняя функция потерь для генератора = 14.724849885160273\n",
      "For the king and his companions stood silent for a moment. _Chapter 3_ The King Party. The Mountain Wormtongue, and the S\n",
      "Следующая эпоха\n",
      "Эпоха 109\n"
     ]
    },
    {
     "name": "stderr",
     "output_type": "stream",
     "text": [
      "88it [00:32,  2.73it/s]\n"
     ]
    },
    {
     "name": "stdout",
     "output_type": "stream",
     "text": [
      "Эпоха прошла за 32.29 секунд\n",
      "Средняя функция потерь для дискриминатора = 0.013629575453127141\n",
      "Средняя функция потерь для генератора = 14.501143390482122\n",
      "For the king and held up the slope-weedgreen, and the barrow of the hills of the Emyn Muil, and the East Rohir\n",
      "Следующая эпоха\n",
      "Эпоха 110\n"
     ]
    },
    {
     "name": "stderr",
     "output_type": "stream",
     "text": [
      "88it [00:32,  2.72it/s]\n"
     ]
    },
    {
     "name": "stdout",
     "output_type": "stream",
     "text": [
      "Эпоха прошла за 32.33 секунд\n",
      "Средняя функция потерь для дискриминатора = 0.025502942889116555\n",
      "Средняя функция потерь для генератора = 13.957493803717874\n",
      "For the king and his face was awake, and he washed clean, and he was written with his hood, and his face looked up. `Here is my friend\n",
      "Следующая эпоха\n",
      "Эпоха 111\n"
     ]
    },
    {
     "name": "stderr",
     "output_type": "stream",
     "text": [
      "88it [00:32,  2.70it/s]\n"
     ]
    },
    {
     "name": "stdout",
     "output_type": "stream",
     "text": [
      "Эпоха прошла за 32.55 секунд\n",
      "Средняя функция потерь для дискриминатора = 0.023899680784697095\n",
      "Средняя функция потерь для генератора = 13.15852865305814\n",
      "For the king and the wolf-claded lands of the Dark Lord, and the Mountains of the Mountains of Middle-earth. Of these were\n",
      "Следующая эпоха\n",
      "Эпоха 112\n"
     ]
    },
    {
     "name": "stderr",
     "output_type": "stream",
     "text": [
      "88it [00:32,  2.72it/s]\n"
     ]
    },
    {
     "name": "stdout",
     "output_type": "stream",
     "text": [
      "Эпоха прошла за 32.34 секунд\n",
      "Средняя функция потерь для дискриминатора = 0.028621760484053415\n",
      "Средняя функция потерь для генератора = 13.108238458633423\n",
      "For the king and weary of the Enemyn Muil, and the Third Marshal of Minas Tirith, and the Silverlode of\n",
      "Следующая эпоха\n",
      "Эпоха 113\n"
     ]
    },
    {
     "name": "stderr",
     "output_type": "stream",
     "text": [
      "88it [00:32,  2.70it/s]\n"
     ]
    },
    {
     "name": "stdout",
     "output_type": "stream",
     "text": [
      "Эпоха прошла за 32.56 секунд\n",
      "Средняя функция потерь для дискриминатора = 0.019101717753404624\n",
      "Средняя функция потерь для генератора = 13.852404995398087\n",
      "For the king and the fields of the Elder Days, and the Enemy has gone, and the Third Marshal of the Third Marshal\n",
      "Следующая эпоха\n",
      "Эпоха 114\n"
     ]
    },
    {
     "name": "stderr",
     "output_type": "stream",
     "text": [
      "88it [00:32,  2.72it/s]\n"
     ]
    },
    {
     "name": "stdout",
     "output_type": "stream",
     "text": [
      "Эпоха прошла за 32.3 секунд\n",
      "Средняя функция потерь для дискриминатора = 0.014267915838486673\n",
      "Средняя функция потерь для генератора = 14.634686101566661\n",
      "For the king and the White Riders of Rohan. Their horses of the Riders cried to the Lady of Rohan, and the Riders of Rohan sprang to\n",
      "Следующая эпоха\n",
      "Эпоха 115\n"
     ]
    },
    {
     "name": "stderr",
     "output_type": "stream",
     "text": [
      "88it [00:32,  2.73it/s]\n"
     ]
    },
    {
     "name": "stdout",
     "output_type": "stream",
     "text": [
      "Эпоха прошла за 32.27 секунд\n",
      "Средняя функция потерь для дискриминатора = 0.02487630728418563\n",
      "Средняя функция потерь для генератора = 14.332157124172557\n",
      "For the king and drops of the Dwarf, and the Dwarves of the Dark Lords of the Mark Tower of the Lordor; and the Mountains of\n",
      "Следующая эпоха\n",
      "Эпоха 116\n"
     ]
    },
    {
     "name": "stderr",
     "output_type": "stream",
     "text": [
      "88it [00:32,  2.72it/s]\n"
     ]
    },
    {
     "name": "stdout",
     "output_type": "stream",
     "text": [
      "Эпоха прошла за 32.34 секунд\n",
      "Средняя функция потерь для дискриминатора = 0.023762857613043954\n",
      "Средняя функция потерь для генератора = 13.045257405801253\n",
      "For the king and the power of the Dark Lord, and the Mark Lord of Minas Tirith. And the Elf-lords of the Enemy has passed\n",
      "Следующая эпоха\n",
      "Эпоха 117\n"
     ]
    },
    {
     "name": "stderr",
     "output_type": "stream",
     "text": [
      "88it [00:32,  2.72it/s]\n"
     ]
    },
    {
     "name": "stdout",
     "output_type": "stream",
     "text": [
      "Эпоха прошла за 32.37 секунд\n",
      "Средняя функция потерь для дискриминатора = 0.02412399165405077\n",
      "Средняя функция потерь для генератора = 12.758415460586548\n",
      "For the king and the men of the Dwarves. One Ring of the Lord of Minas Tirith lie between the Mountains and the Sea, and the Sea\n",
      "Следующая эпоха\n",
      "Эпоха 118\n"
     ]
    },
    {
     "name": "stderr",
     "output_type": "stream",
     "text": [
      "88it [00:32,  2.72it/s]\n"
     ]
    },
    {
     "name": "stdout",
     "output_type": "stream",
     "text": [
      "Эпоха прошла за 32.41 секунд\n",
      "Средняя функция потерь для дискриминатора = 0.017217569763571108\n",
      "Средняя функция потерь для генератора = 12.999251354824413\n",
      "For the king and dwindled into the deeper walls of the Deeping-streams of the Mountains and the Emyn Muil and the fields of\n",
      "Следующая эпоха\n",
      "Эпоха 119\n"
     ]
    },
    {
     "name": "stderr",
     "output_type": "stream",
     "text": [
      "88it [00:32,  2.72it/s]\n"
     ]
    },
    {
     "name": "stdout",
     "output_type": "stream",
     "text": [
      "Эпоха прошла за 32.36 секунд\n",
      "Средняя функция потерь для дискриминатора = 0.016979647358642647\n",
      "Средняя функция потерь для генератора = 13.821430520577865\n",
      "For the king and the fogs of the Enemy's Dark Lord, and the Mark of Mordor, and the Elf-lords of the Enemy\n",
      "Следующая эпоха\n",
      "Эпоха 120\n"
     ]
    },
    {
     "name": "stderr",
     "output_type": "stream",
     "text": [
      "88it [00:32,  2.73it/s]\n"
     ]
    },
    {
     "name": "stdout",
     "output_type": "stream",
     "text": [
      "Эпоха прошла за 32.29 секунд\n",
      "Средняя функция потерь для дискриминатора = 0.01939055062856906\n",
      "Средняя функция потерь для генератора = 13.868603532964533\n",
      "For the king and shape of the Dark Lord, and the Galadhrim, and the Sea, and the Great River flows from the Great River\n",
      "Следующая эпоха\n",
      "Эпоха 121\n"
     ]
    },
    {
     "name": "stderr",
     "output_type": "stream",
     "text": [
      "88it [00:32,  2.73it/s]\n"
     ]
    },
    {
     "name": "stdout",
     "output_type": "stream",
     "text": [
      "Эпоха прошла за 32.27 секунд\n",
      "Средняя функция потерь для дискриминатора = 0.03192190833264745\n",
      "Средняя функция потерь для генератора = 14.025547992099415\n",
      "For the king and I have never seen it before.' 'Oh! I am not sure,' said Gandalf. 'But I have not heard of the Riders of the Greyflood, but I have\n",
      "Следующая эпоха\n",
      "Эпоха 122\n"
     ]
    },
    {
     "name": "stderr",
     "output_type": "stream",
     "text": [
      "88it [00:32,  2.72it/s]\n"
     ]
    },
    {
     "name": "stdout",
     "output_type": "stream",
     "text": [
      "Эпоха прошла за 32.34 секунд\n",
      "Средняя функция потерь для дискриминатора = 0.017770753033718476\n",
      "Средняя функция потерь для генератора = 13.669788046316667\n",
      "For the king and the Dark Lord of Moria, and the Green Havens of the Dwarf, and the Lady Galadriel speak of Lorien.\n",
      "Следующая эпоха\n",
      "Эпоха 123\n"
     ]
    },
    {
     "name": "stderr",
     "output_type": "stream",
     "text": [
      "88it [00:32,  2.73it/s]\n"
     ]
    },
    {
     "name": "stdout",
     "output_type": "stream",
     "text": [
      "Эпоха прошла за 32.29 секунд\n",
      "Средняя функция потерь для дискриминатора = 0.012713740991536972\n",
      "Средняя функция потерь для генератора = 14.362578218633478\n",
      "For the king and he was aware of the Enemy's Days of Mundor, and the Third Marshal of Denethor, the Thain\n",
      "Следующая эпоха\n",
      "Эпоха 124\n"
     ]
    },
    {
     "name": "stderr",
     "output_type": "stream",
     "text": [
      "88it [00:32,  2.72it/s]\n"
     ]
    },
    {
     "name": "stdout",
     "output_type": "stream",
     "text": [
      "Эпоха прошла за 32.34 секунд\n",
      "Средняя функция потерь для дискриминатора = 0.012037070907188701\n",
      "Средняя функция потерь для генератора = 14.627463698387146\n",
      "For the king and his companions of the Hornburg, and the House of Elendil's son of Elendil's son of Elendil's\n",
      "Следующая эпоха\n",
      "Эпоха 125\n"
     ]
    },
    {
     "name": "stderr",
     "output_type": "stream",
     "text": [
      "88it [00:32,  2.70it/s]\n"
     ]
    },
    {
     "name": "stdout",
     "output_type": "stream",
     "text": [
      "Эпоха прошла за 32.55 секунд\n",
      "Средняя функция потерь для дискриминатора = 0.01701072844562904\n",
      "Средняя функция потерь для генератора = 14.582096804272044\n",
      "For the king and power of the Enemy? ' `Yes, it is,' said Faramir. `The Ring is not white. But I cannot guess what I do.' `But\n",
      "Следующая эпоха\n",
      "Эпоха 126\n"
     ]
    },
    {
     "name": "stderr",
     "output_type": "stream",
     "text": [
      "88it [00:32,  2.73it/s]\n"
     ]
    },
    {
     "name": "stdout",
     "output_type": "stream",
     "text": [
      "Эпоха прошла за 32.24 секунд\n",
      "Средняя функция потерь для дискриминатора = 0.0252826126478877\n",
      "Средняя функция потерь для генератора = 13.511305559765209\n",
      "For the king and the Dark Lord, and the Mark of the Mark of Mordor, and the Mark of the Mountains of Middle-earth returned to the F\n",
      "Следующая эпоха\n",
      "Эпоха 127\n"
     ]
    },
    {
     "name": "stderr",
     "output_type": "stream",
     "text": [
      "88it [00:32,  2.73it/s]\n"
     ]
    },
    {
     "name": "stdout",
     "output_type": "stream",
     "text": [
      "Эпоха прошла за 32.27 секунд\n",
      "Средняя функция потерь для дискриминатора = 0.018956096295865296\n",
      "Средняя функция потерь для генератора = 13.77604266730222\n",
      "For the king and his companions of the East West, and the Enemy was drawing near the Mountains of Middle-earth, and the Th\n",
      "Следующая эпоха\n",
      "Эпоха 128\n"
     ]
    },
    {
     "name": "stderr",
     "output_type": "stream",
     "text": [
      "88it [00:32,  2.72it/s]\n"
     ]
    },
    {
     "name": "stdout",
     "output_type": "stream",
     "text": [
      "Эпоха прошла за 32.36 секунд\n",
      "Средняя функция потерь для дискриминатора = 0.017423005603136102\n",
      "Средняя функция потерь для генератора = 14.292632276361639\n",
      "For the king and the men of the Dark Lord, and the Enemy knows of the Dark Lord of Mordor, and the Mark Tower of Mordor, and\n",
      "Следующая эпоха\n",
      "Эпоха 129\n"
     ]
    },
    {
     "name": "stderr",
     "output_type": "stream",
     "text": [
      "88it [00:32,  2.72it/s]\n"
     ]
    },
    {
     "name": "stdout",
     "output_type": "stream",
     "text": [
      "Эпоха прошла за 32.4 секунд\n",
      "Средняя функция потерь для дискриминатора = 0.025286570486721095\n",
      "Средняя функция потерь для генератора = 13.841510891914368\n",
      "For the king and his companions stood in a great gardeneral. He looked at them with wonder and smiled and smiled. `Here,' he said. `And I\n",
      "Следующая эпоха\n",
      "Эпоха 130\n"
     ]
    },
    {
     "name": "stderr",
     "output_type": "stream",
     "text": [
      "88it [00:32,  2.72it/s]\n"
     ]
    },
    {
     "name": "stdout",
     "output_type": "stream",
     "text": [
      "Эпоха прошла за 32.34 секунд\n",
      "Средняя функция потерь для дискриминатора = 0.02959029362616341\n",
      "Средняя функция потерь для генератора = 13.721874583851207\n",
      "For the king and the Dwarves, and the Elves of the Men of the Dark Tower, and the Mountains of Minas Tirith lie in Middle-earth.\n",
      "Следующая эпоха\n",
      "Эпоха 131\n"
     ]
    },
    {
     "name": "stderr",
     "output_type": "stream",
     "text": [
      "88it [00:32,  2.72it/s]\n"
     ]
    },
    {
     "name": "stdout",
     "output_type": "stream",
     "text": [
      "Эпоха прошла за 32.35 секунд\n",
      "Средняя функция потерь для дискриминатора = 0.01737191477778569\n",
      "Средняя функция потерь для генератора = 13.032765984535217\n",
      "For the king and his companions walked in the Shire, and the fathers of Buckland, and the Brandywine Bridge, Brandybucks, B\n",
      "Следующая эпоха\n",
      "Эпоха 132\n"
     ]
    },
    {
     "name": "stderr",
     "output_type": "stream",
     "text": [
      "88it [00:32,  2.73it/s]\n"
     ]
    },
    {
     "name": "stdout",
     "output_type": "stream",
     "text": [
      "Эпоха прошла за 32.28 секунд\n",
      "Средняя функция потерь для дискриминатора = 0.030033154004658256\n",
      "Средняя функция потерь для генератора = 12.497676849365234\n",
      "For the king and authoritches of the Dark Lord. The Dark Lord of the Mark Lord of the Mark is the Mark of Middle-earth\n",
      "Следующая эпоха\n",
      "Эпоха 133\n"
     ]
    },
    {
     "name": "stderr",
     "output_type": "stream",
     "text": [
      "88it [00:32,  2.73it/s]\n"
     ]
    },
    {
     "name": "stdout",
     "output_type": "stream",
     "text": [
      "Эпоха прошла за 32.26 секунд\n",
      "Средняя функция потерь для дискриминатора = 0.027564702272436327\n",
      "Средняя функция потерь для генератора = 12.436018477786671\n",
      "For the king and weariness of the Dark Tower of Mordor, and the Ring is not deceived by the One Ring to declay the One Ring of the\n",
      "Следующая эпоха\n",
      "Эпоха 134\n"
     ]
    },
    {
     "name": "stderr",
     "output_type": "stream",
     "text": [
      "88it [00:32,  2.72it/s]\n"
     ]
    },
    {
     "name": "stdout",
     "output_type": "stream",
     "text": [
      "Эпоха прошла за 32.35 секунд\n",
      "Средняя функция потерь для дискриминатора = 0.014888133248446551\n",
      "Средняя функция потерь для генератора = 12.578981692140752\n",
      "For the king and the rumours of the Dark Lord, and the Dark Lord of Moria, and the Great River, and the Sword of Galadrie\n",
      "Следующая эпоха\n",
      "Эпоха 135\n"
     ]
    },
    {
     "name": "stderr",
     "output_type": "stream",
     "text": [
      "88it [00:32,  2.71it/s]\n"
     ]
    },
    {
     "name": "stdout",
     "output_type": "stream",
     "text": [
      "Эпоха прошла за 32.51 секунд\n",
      "Средняя функция потерь для дискриминатора = 0.01938253844326193\n",
      "Средняя функция потерь для генератора = 13.35693067854101\n",
      "For the king and the men of the Dwarves, and the Elves of Middle-earth and the Lady of Lothlorien, and the Elves of Galadriel. For\n",
      "Следующая эпоха\n",
      "Эпоха 136\n"
     ]
    },
    {
     "name": "stderr",
     "output_type": "stream",
     "text": [
      "88it [00:32,  2.72it/s]\n"
     ]
    },
    {
     "name": "stdout",
     "output_type": "stream",
     "text": [
      "Эпоха прошла за 32.4 секунд\n",
      "Средняя функция потерь для дискриминатора = 0.01943977159019348\n",
      "Средняя функция потерь для генератора = 13.794752381064676\n",
      "For the king and was a great deed of the Enemy. The Dark Lord was the Marshel Delvants of the Elf-lords of the Dark L\n",
      "Следующая эпоха\n",
      "Эпоха 137\n"
     ]
    },
    {
     "name": "stderr",
     "output_type": "stream",
     "text": [
      "88it [00:32,  2.72it/s]\n"
     ]
    },
    {
     "name": "stdout",
     "output_type": "stream",
     "text": [
      "Эпоха прошла за 32.33 секунд\n",
      "Средняя функция потерь для дискриминатора = 0.01859376120410161\n",
      "Средняя функция потерь для генератора = 13.387274622917175\n",
      "For the king and the Dark Lord of the Mountains of Minas Tirith, and the Elves of the Lordor where the Mountains of Minas Tirith lived\n",
      "Следующая эпоха\n",
      "Эпоха 138\n"
     ]
    },
    {
     "name": "stderr",
     "output_type": "stream",
     "text": [
      "88it [00:32,  2.73it/s]\n"
     ]
    },
    {
     "name": "stdout",
     "output_type": "stream",
     "text": [
      "Эпоха прошла за 32.28 секунд\n",
      "Средняя функция потерь для дискриминатора = 0.024706527134019943\n",
      "Средняя функция потерь для генератора = 13.501254948702725\n",
      "For the king and the foes of the Elendil's son of Elendil's son of Elendil's son of Elendil's son of Ele\n",
      "Следующая эпоха\n",
      "Эпоха 139\n"
     ]
    },
    {
     "name": "stderr",
     "output_type": "stream",
     "text": [
      "88it [00:32,  2.72it/s]\n"
     ]
    },
    {
     "name": "stdout",
     "output_type": "stream",
     "text": [
      "Эпоха прошла за 32.32 секунд\n",
      "Средняя функция потерь для дискриминатора = 0.024169443802913356\n",
      "Средняя функция потерь для генератора = 13.42057314786044\n",
      "For the king and weariness, and the power of the Enemy of the Dark Lord, and the Mark Tower of the Mark Lordor, and the Mark\n",
      "Следующая эпоха\n",
      "Эпоха 140\n"
     ]
    },
    {
     "name": "stderr",
     "output_type": "stream",
     "text": [
      "88it [00:32,  2.72it/s]\n"
     ]
    },
    {
     "name": "stdout",
     "output_type": "stream",
     "text": [
      "Эпоха прошла за 32.34 секунд\n",
      "Средняя функция потерь для дискриминатора = 0.024421678876520178\n",
      "Средняя функция потерь для генератора = 13.683475190942938\n",
      "For the king and his men of the king's house. The Riders cried aloud. The Riders of the Riders, and the Riders of Rohan sprang to their feet. The\n",
      "Следующая эпоха\n",
      "Эпоха 141\n"
     ]
    },
    {
     "name": "stderr",
     "output_type": "stream",
     "text": [
      "88it [00:32,  2.72it/s]\n"
     ]
    },
    {
     "name": "stdout",
     "output_type": "stream",
     "text": [
      "Эпоха прошла за 32.34 секунд\n",
      "Средняя функция потерь для дискриминатора = 0.015277577636879869\n",
      "Средняя функция потерь для генератора = 13.300272670659153\n",
      "For the king and held up his sword. `No, no! ' he cried. `No! ' he said. `No! ' said Frodo. `No! ' `No!\n",
      "Следующая эпоха\n",
      "Эпоха 142\n"
     ]
    },
    {
     "name": "stderr",
     "output_type": "stream",
     "text": [
      "88it [00:32,  2.72it/s]\n"
     ]
    },
    {
     "name": "stdout",
     "output_type": "stream",
     "text": [
      "Эпоха прошла за 32.4 секунд\n",
      "Средняя функция потерь для дискриминатора = 0.020276487211297288\n",
      "Средняя функция потерь для генератора = 13.620042020624334\n",
      "For the king and the fairering of the world, and the Silverlode flowed swiftly down the Great River, and the Great River flowed\n",
      "Следующая эпоха\n",
      "Эпоха 143\n"
     ]
    },
    {
     "name": "stderr",
     "output_type": "stream",
     "text": [
      "88it [00:32,  2.72it/s]\n"
     ]
    },
    {
     "name": "stdout",
     "output_type": "stream",
     "text": [
      "Эпоха прошла за 32.34 секунд\n",
      "Средняя функция потерь для дискриминатора = 0.013287661263596172\n",
      "Средняя функция потерь для генератора = 13.566820339723067\n",
      "For the king and power of the Mordor. The Ring passed over the Mountains and the Silverlode passed into the Sea. All the Great River, and\n",
      "Следующая эпоха\n",
      "Эпоха 144\n"
     ]
    },
    {
     "name": "stderr",
     "output_type": "stream",
     "text": [
      "88it [00:32,  2.73it/s]\n"
     ]
    },
    {
     "name": "stdout",
     "output_type": "stream",
     "text": [
      "Эпоха прошла за 32.27 секунд\n",
      "Средняя функция потерь для дискриминатора = 0.015832776102880333\n",
      "Средняя функция потерь для генератора = 14.18789517879486\n",
      "For the king and the Dark Lord, and the Mountains of the Mountains of the Misty Mountains of the Mountains and the Sea, and the Sea\n",
      "Следующая эпоха\n",
      "Эпоха 145\n"
     ]
    },
    {
     "name": "stderr",
     "output_type": "stream",
     "text": [
      "88it [00:32,  2.73it/s]\n"
     ]
    },
    {
     "name": "stdout",
     "output_type": "stream",
     "text": [
      "Эпоха прошла за 32.29 секунд\n",
      "Средняя функция потерь для дискриминатора = 0.019933850136691366\n",
      "Средняя функция потерь для генератора = 14.152012033896012\n",
      "For the king and the menace of the Dunedain, and the Dark Lord of the Mark Tower of Mordor. The Ring passed over the Sun, and the Sword\n",
      "Следующая эпоха\n",
      "Эпоха 146\n"
     ]
    },
    {
     "name": "stderr",
     "output_type": "stream",
     "text": [
      "88it [00:32,  2.73it/s]\n"
     ]
    },
    {
     "name": "stdout",
     "output_type": "stream",
     "text": [
      "Эпоха прошла за 32.29 секунд\n",
      "Средняя функция потерь для дискриминатора = 0.018650269592895216\n",
      "Средняя функция потерь для генератора = 14.214371811259877\n",
      "For the king and held in a great horn-cloak. There was a silence, for a while, and a while he was sitting in the silence. At last\n",
      "Следующая эпоха\n",
      "Эпоха 147\n"
     ]
    },
    {
     "name": "stderr",
     "output_type": "stream",
     "text": [
      "88it [00:32,  2.72it/s]\n"
     ]
    },
    {
     "name": "stdout",
     "output_type": "stream",
     "text": [
      "Эпоха прошла за 32.36 секунд\n",
      "Средняя функция потерь для дискриминатора = 0.023620634959859835\n",
      "Средняя функция потерь для генератора = 14.26895226131786\n",
      "For the king and the Dark Lord of the Mark Lord of the Mark, and the Mountains of the Mountains of Minas Tirith, and the Enemy\n",
      "Следующая эпоха\n",
      "Эпоха 148\n"
     ]
    },
    {
     "name": "stderr",
     "output_type": "stream",
     "text": [
      "88it [00:32,  2.72it/s]\n"
     ]
    },
    {
     "name": "stdout",
     "output_type": "stream",
     "text": [
      "Эпоха прошла за 32.39 секунд\n",
      "Средняя функция потерь для дискриминатора = 0.017891931024761023\n",
      "Средняя функция потерь для генератора = 13.9075946374373\n",
      "For the king and to the fields of the Emyn Muil; and there was no sign of escape from the Enemy's Days before the Dark\n",
      "Следующая эпоха\n",
      "Эпоха 149\n"
     ]
    },
    {
     "name": "stderr",
     "output_type": "stream",
     "text": [
      "88it [00:32,  2.72it/s]\n"
     ]
    },
    {
     "name": "stdout",
     "output_type": "stream",
     "text": [
      "Эпоха прошла за 32.32 секунд\n",
      "Средняя функция потерь для дискриминатора = 0.023272985552135982\n",
      "Средняя функция потерь для генератора = 13.98468868298964\n",
      "For the king and held him to his sword. He was aware that he had never seen before he had been abandoned in the Shire, but he had never seen it; but he did not\n",
      "Следующая эпоха\n",
      "Эпоха 150\n"
     ]
    },
    {
     "name": "stderr",
     "output_type": "stream",
     "text": [
      "88it [00:32,  2.71it/s]\n"
     ]
    },
    {
     "name": "stdout",
     "output_type": "stream",
     "text": [
      "Эпоха прошла за 32.42 секунд\n",
      "Средняя функция потерь для дискриминатора = 0.018368301018860868\n",
      "Средняя функция потерь для генератора = 14.099481636827642\n",
      "For the king and weapons of the Dark Lord. And the Mark Lord of the Mark, and the Lord of Mordor and the Enemy knows of the\n",
      "Следующая эпоха\n",
      "Эпоха 151\n"
     ]
    },
    {
     "name": "stderr",
     "output_type": "stream",
     "text": [
      "88it [00:32,  2.67it/s]\n"
     ]
    },
    {
     "name": "stdout",
     "output_type": "stream",
     "text": [
      "Эпоха прошла за 32.93 секунд\n",
      "Средняя функция потерь для дискриминатора = 0.02016001538736005\n",
      "Средняя функция потерь для генератора = 14.549494483254172\n",
      "For the king and Gloin's son of Elendil's son of Arathorn, the Third Marshal of the Dwarf, the Third M\n",
      "Следующая эпоха\n",
      "Эпоха 152\n"
     ]
    },
    {
     "name": "stderr",
     "output_type": "stream",
     "text": [
      "88it [00:32,  2.72it/s]\n"
     ]
    },
    {
     "name": "stdout",
     "output_type": "stream",
     "text": [
      "Эпоха прошла за 32.39 секунд\n",
      "Средняя функция потерь для дискриминатора = 0.01416810121835707\n",
      "Средняя функция потерь для генератора = 14.609237660061229\n",
      "For the king and the power of the Westfold-men, and the Dwarf-men of the Dark Lord, and the Galadhrim, and the S\n",
      "Следующая эпоха\n",
      "Эпоха 153\n"
     ]
    },
    {
     "name": "stderr",
     "output_type": "stream",
     "text": [
      "88it [00:32,  2.71it/s]\n"
     ]
    },
    {
     "name": "stdout",
     "output_type": "stream",
     "text": [
      "Эпоха прошла за 32.48 секунд\n",
      "Средняя функция потерь для дискриминатора = 0.022214578725734926\n",
      "Средняя функция потерь для генератора = 14.872279123826461\n",
      "For the king and his men of the Wizard's household. Here the Sword of Elendil's son of Elendil's son of Elendil\n",
      "Следующая эпоха\n",
      "Эпоха 154\n"
     ]
    },
    {
     "name": "stderr",
     "output_type": "stream",
     "text": [
      "88it [00:32,  2.72it/s]\n"
     ]
    },
    {
     "name": "stdout",
     "output_type": "stream",
     "text": [
      "Эпоха прошла за 32.35 секунд\n",
      "Средняя функция потерь для дискриминатора = 0.01839909147251588\n",
      "Средняя функция потерь для генератора = 14.737389542839743\n",
      "For the king and a great power that was in the world out of the Deeping-stream of the Misty Mountains of the Mountains of Middle-earth.\n",
      "Следующая эпоха\n",
      "Эпоха 155\n"
     ]
    },
    {
     "name": "stderr",
     "output_type": "stream",
     "text": [
      "88it [00:32,  2.70it/s]\n"
     ]
    },
    {
     "name": "stdout",
     "output_type": "stream",
     "text": [
      "Эпоха прошла за 32.57 секунд\n",
      "Средняя функция потерь для дискриминатора = 0.02146686671221687\n",
      "Средняя функция потерь для генератора = 14.969806118444962\n",
      "For the king and a great power of the Dark Lord, and the Mark Lord of Mordor, and the Ring of the Ring-bearer and its strength. The Ring\n",
      "Следующая эпоха\n",
      "Эпоха 156\n"
     ]
    },
    {
     "name": "stderr",
     "output_type": "stream",
     "text": [
      "88it [00:32,  2.73it/s]\n"
     ]
    },
    {
     "name": "stdout",
     "output_type": "stream",
     "text": [
      "Эпоха прошла за 32.28 секунд\n",
      "Средняя функция потерь для дискриминатора = 0.018914310143868948\n",
      "Средняя функция потерь для генератора = 14.865111947059631\n",
      "For the king and his companions of the Westfold, the Hornburg, the House of Elendil's son of Elendil's son of\n",
      "Следующая эпоха\n",
      "Эпоха 157\n"
     ]
    },
    {
     "name": "stderr",
     "output_type": "stream",
     "text": [
      "88it [00:32,  2.72it/s]\n"
     ]
    },
    {
     "name": "stdout",
     "output_type": "stream",
     "text": [
      "Эпоха прошла за 32.33 секунд\n",
      "Средняя функция потерь для дискриминатора = 0.020210770671176513\n",
      "Средняя функция потерь для генератора = 14.72603341666135\n",
      "For the king and his companions walked in the Shire, and the family of the Shire, and the Hobbits of the Brandybucks of Brandyw\n",
      "Следующая эпоха\n",
      "Эпоха 158\n"
     ]
    },
    {
     "name": "stderr",
     "output_type": "stream",
     "text": [
      "88it [00:32,  2.70it/s]\n"
     ]
    },
    {
     "name": "stdout",
     "output_type": "stream",
     "text": [
      "Эпоха прошла за 32.59 секунд\n",
      "Средняя функция потерь для дискриминатора = 0.02069743952498274\n",
      "Средняя функция потерь для генератора = 14.721690546382558\n",
      "For the king and the Grey of the Dark Lord of the Mountains of Elendil, and the North of Eorlingas, and the Enemy has g\n",
      "Следующая эпоха\n",
      "Эпоха 159\n"
     ]
    },
    {
     "name": "stderr",
     "output_type": "stream",
     "text": [
      "88it [00:32,  2.70it/s]\n"
     ]
    },
    {
     "name": "stdout",
     "output_type": "stream",
     "text": [
      "Эпоха прошла за 32.56 секунд\n",
      "Средняя функция потерь для дискриминатора = 0.020697502340639898\n",
      "Средняя функция потерь для генератора = 14.620311227711765\n",
      "For the king and the Lady of Moria, who son of Arathorn was called, and the Third Marshal of Denethor, and the Third\n",
      "Следующая эпоха\n",
      "Эпоха 160\n"
     ]
    },
    {
     "name": "stderr",
     "output_type": "stream",
     "text": [
      "88it [00:32,  2.72it/s]\n"
     ]
    },
    {
     "name": "stdout",
     "output_type": "stream",
     "text": [
      "Эпоха прошла за 32.34 секунд\n",
      "Средняя функция потерь для дискриминатора = 0.020161016026990677\n",
      "Средняя функция потерь для генератора = 14.567448821934788\n",
      "For the king and dwellings of the Sun upon the Great River, and the Great River flowed away from the Gates of Anduin, and the Great R\n",
      "Следующая эпоха\n",
      "Эпоха 161\n"
     ]
    },
    {
     "name": "stderr",
     "output_type": "stream",
     "text": [
      "88it [00:32,  2.70it/s]\n"
     ]
    },
    {
     "name": "stdout",
     "output_type": "stream",
     "text": [
      "Эпоха прошла за 32.55 секунд\n",
      "Средняя функция потерь для дискриминатора = 0.02473155703476302\n",
      "Средняя функция потерь для генератора = 14.610964504155247\n",
      "For the king and weapons of the White Mountains of Minas Anor, and the Enemy, and the Dark Lord of the Mark Lordor, and\n",
      "Следующая эпоха\n",
      "Эпоха 162\n"
     ]
    },
    {
     "name": "stderr",
     "output_type": "stream",
     "text": [
      "88it [00:32,  2.73it/s]\n"
     ]
    },
    {
     "name": "stdout",
     "output_type": "stream",
     "text": [
      "Эпоха прошла за 32.26 секунд\n",
      "Средняя функция потерь для дискриминатора = 0.024705484388422603\n",
      "Средняя функция потерь для генератора = 14.082432161677968\n",
      "For the king and weariness of the world. And we are too strong and weary.' He turned and went forward into the darkness. `No, no! ' said Gimli\n",
      "Следующая эпоха\n",
      "Эпоха 163\n"
     ]
    },
    {
     "name": "stderr",
     "output_type": "stream",
     "text": [
      "88it [00:32,  2.71it/s]\n"
     ]
    },
    {
     "name": "stdout",
     "output_type": "stream",
     "text": [
      "Эпоха прошла за 32.53 секунд\n",
      "Средняя функция потерь для дискриминатора = 0.028022724302982995\n",
      "Средняя функция потерь для генератора = 13.638148936358364\n",
      "For the king and burned with a great corner of the Entwash, and the Entwash, and the Ents are Entwives. There are Ents and Ents\n",
      "Следующая эпоха\n",
      "Эпоха 164\n"
     ]
    },
    {
     "name": "stderr",
     "output_type": "stream",
     "text": [
      "88it [00:32,  2.72it/s]\n"
     ]
    },
    {
     "name": "stdout",
     "output_type": "stream",
     "text": [
      "Эпоха прошла за 32.41 секунд\n",
      "Средняя функция потерь для дискриминатора = 0.02817606054040053\n",
      "Средняя функция потерь для генератора = 13.583815325390209\n",
      "For the king and men of the Westfold of the Westfold of the Elder Days of Minas Tirith, and the Dark Tower of Gondor,\n",
      "Следующая эпоха\n",
      "Эпоха 165\n"
     ]
    },
    {
     "name": "stderr",
     "output_type": "stream",
     "text": [
      "88it [00:32,  2.71it/s]\n"
     ]
    },
    {
     "name": "stdout",
     "output_type": "stream",
     "text": [
      "Эпоха прошла за 32.43 секунд\n",
      "Средняя функция потерь для дискриминатора = 0.02732651231979782\n",
      "Средняя функция потерь для генератора = 14.107045542110097\n",
      "For the king and power of the world, and the Sea. One Ring passed over the Sea, and the Silverlode in the Sea, and the Se\n",
      "Следующая эпоха\n",
      "Эпоха 166\n"
     ]
    },
    {
     "name": "stderr",
     "output_type": "stream",
     "text": [
      "88it [00:32,  2.72it/s]\n"
     ]
    },
    {
     "name": "stdout",
     "output_type": "stream",
     "text": [
      "Эпоха прошла за 32.37 секунд\n",
      "Средняя функция потерь для дискриминатора = 0.012060771950266579\n",
      "Средняя функция потерь для генератора = 13.96925344250419\n",
      "For the king and dwellings of the Dark Tower of Moria.' 'Mithrandir,' said Faramir, 'and I have not heard of the Dark Lord of M\n",
      "Следующая эпоха\n",
      "Эпоха 167\n"
     ]
    },
    {
     "name": "stderr",
     "output_type": "stream",
     "text": [
      "88it [00:32,  2.70it/s]\n"
     ]
    },
    {
     "name": "stdout",
     "output_type": "stream",
     "text": [
      "Эпоха прошла за 32.55 секунд\n",
      "Средняя функция потерь для дискриминатора = 0.01504682313911458\n",
      "Средняя функция потерь для генератора = 14.454759435220199\n",
      "For the king and the Dark Lord of the Mark Lord of Mark, and the Ring passed into Middle-earth. The Ring-bearer and the Sword of the\n",
      "Следующая эпоха\n",
      "Эпоха 168\n"
     ]
    },
    {
     "name": "stderr",
     "output_type": "stream",
     "text": [
      "88it [00:32,  2.72it/s]\n"
     ]
    },
    {
     "name": "stdout",
     "output_type": "stream",
     "text": [
      "Эпоха прошла за 32.36 секунд\n",
      "Средняя функция потерь для дискриминатора = 0.008180714192845202\n",
      "Средняя функция потерь для генератора = 14.685830842364918\n",
      "For the king and cursed the gates of the Dark Lord. Their hearts of Minas Tirith, and the Great River flower of Gondor,\n",
      "Следующая эпоха\n",
      "Эпоха 169\n"
     ]
    },
    {
     "name": "stderr",
     "output_type": "stream",
     "text": [
      "88it [00:32,  2.72it/s]\n"
     ]
    },
    {
     "name": "stdout",
     "output_type": "stream",
     "text": [
      "Эпоха прошла за 32.35 секунд\n",
      "Средняя функция потерь для дискриминатора = 0.010167690329333047\n",
      "Средняя функция потерь для генератора = 15.144253546541387\n",
      "For the king and the power of the Westfold, and the Ring passed over the Sea, and the Swords of Westernesse in the East, and the\n",
      "Следующая эпоха\n",
      "Эпоха 170\n"
     ]
    },
    {
     "name": "stderr",
     "output_type": "stream",
     "text": [
      "88it [00:32,  2.72it/s]\n"
     ]
    },
    {
     "name": "stdout",
     "output_type": "stream",
     "text": [
      "Эпоха прошла за 32.34 секунд\n",
      "Средняя функция потерь для дискриминатора = 0.016580946705785624\n",
      "Средняя функция потерь для генератора = 15.34370243549347\n",
      "For the king and the menace of the Dwarf, and the Dwarf-kings of the Men of the Dunedain, and the Men of Gondor and the Dark Lord\n",
      "Следующая эпоха\n",
      "Эпоха 171\n"
     ]
    },
    {
     "name": "stderr",
     "output_type": "stream",
     "text": [
      "88it [00:32,  2.71it/s]\n"
     ]
    },
    {
     "name": "stdout",
     "output_type": "stream",
     "text": [
      "Эпоха прошла за 32.42 секунд\n",
      "Средняя функция потерь для дискриминатора = 0.012798159562325136\n",
      "Средняя функция потерь для генератора = 14.913528485731645\n",
      "For the king and held up the slopes of the hill. There was no sign of the Riders of the Riders of Rohan, and the Riders of the Emyn M\n",
      "Следующая эпоха\n",
      "Эпоха 172\n"
     ]
    },
    {
     "name": "stderr",
     "output_type": "stream",
     "text": [
      "88it [00:32,  2.71it/s]\n"
     ]
    },
    {
     "name": "stdout",
     "output_type": "stream",
     "text": [
      "Эпоха прошла за 32.44 секунд\n",
      "Средняя функция потерь для дискриминатора = 0.01622758044504735\n",
      "Средняя функция потерь для генератора = 15.906136252663352\n",
      "For the king and bows of the Mountains of the Misty Mountains. The Mountains were gathered together, and the sun shone down into the West. The\n",
      "Следующая эпоха\n",
      "Эпоха 173\n"
     ]
    },
    {
     "name": "stderr",
     "output_type": "stream",
     "text": [
      "88it [00:32,  2.72it/s]\n"
     ]
    },
    {
     "name": "stdout",
     "output_type": "stream",
     "text": [
      "Эпоха прошла за 32.38 секунд\n",
      "Средняя функция потерь для дискриминатора = 0.0115844978279876\n",
      "Средняя функция потерь для генератора = 15.897740244865417\n",
      "For the king and filled with his fingers. `No, no! ' he said. `Not yet, no! ' said Gollum. `No, no! ' said Gollum. `\n",
      "Следующая эпоха\n",
      "Эпоха 174\n"
     ]
    },
    {
     "name": "stderr",
     "output_type": "stream",
     "text": [
      "88it [00:32,  2.72it/s]\n"
     ]
    },
    {
     "name": "stdout",
     "output_type": "stream",
     "text": [
      "Эпоха прошла за 32.3 секунд\n",
      "Средняя функция потерь для дискриминатора = 0.01306399556415272\n",
      "Средняя функция потерь для генератора = 16.36336029659618\n",
      "For the king and the city of the Dark Lord, and the Mark of the Mountains of the Mountains of Mordor. The Ring passed over the Sauron and\n",
      "Следующая эпоха\n",
      "Эпоха 175\n"
     ]
    },
    {
     "name": "stderr",
     "output_type": "stream",
     "text": [
      "88it [00:32,  2.73it/s]\n"
     ]
    },
    {
     "name": "stdout",
     "output_type": "stream",
     "text": [
      "Эпоха прошла за 32.25 секунд\n",
      "Средняя функция потерь для дискриминатора = 0.012356294028656768\n",
      "Средняя функция потерь для генератора = 16.13261278109117\n",
      "For the king and his companions were grabbed with his hand. 'Gollum!' he cried. 'Good-bye!' said Treebeard. 'This\n",
      "Следующая эпоха\n",
      "Эпоха 176\n"
     ]
    },
    {
     "name": "stderr",
     "output_type": "stream",
     "text": [
      "88it [00:32,  2.72it/s]\n"
     ]
    },
    {
     "name": "stdout",
     "output_type": "stream",
     "text": [
      "Эпоха прошла за 32.32 секунд\n",
      "Средняя функция потерь для дискриминатора = 0.020134148755294682\n",
      "Средняя функция потерь для генератора = 15.992132024331527\n",
      "For the king and the White Mountains of Minas Tirith.' `Ah! ' said Boromir. `And what do you think of it? ' `Yet it is not yet\n",
      "Следующая эпоха\n",
      "Эпоха 177\n"
     ]
    },
    {
     "name": "stderr",
     "output_type": "stream",
     "text": [
      "88it [00:32,  2.72it/s]\n"
     ]
    },
    {
     "name": "stdout",
     "output_type": "stream",
     "text": [
      "Эпоха прошла за 32.38 секунд\n",
      "Средняя функция потерь для дискриминатора = 0.012207942712517583\n",
      "Средняя функция потерь для генератора = 15.038694143295288\n",
      "For the king and the power of the Enemy knows where the Dark Lords of the Mark Lord of Mordor, and the Mark of Mordor, and the\n",
      "Следующая эпоха\n",
      "Эпоха 178\n"
     ]
    },
    {
     "name": "stderr",
     "output_type": "stream",
     "text": [
      "88it [00:32,  2.72it/s]\n"
     ]
    },
    {
     "name": "stdout",
     "output_type": "stream",
     "text": [
      "Эпоха прошла за 32.36 секунд\n",
      "Средняя функция потерь для дискриминатора = 0.011220641111900808\n",
      "Средняя функция потерь для генератора = 15.40337061882019\n",
      "For the king and the fields of the Misty Mountains of the Sea, and the Eastfarthing far from the Sea, and the Mountains of the E\n",
      "Следующая эпоха\n",
      "Эпоха 179\n"
     ]
    },
    {
     "name": "stderr",
     "output_type": "stream",
     "text": [
      "88it [00:32,  2.71it/s]\n"
     ]
    },
    {
     "name": "stdout",
     "output_type": "stream",
     "text": [
      "Эпоха прошла за 32.52 секунд\n",
      "Средняя функция потерь для дискриминатора = 0.010731922670939557\n",
      "Средняя функция потерь для генератора = 15.680538361722773\n",
      "For the king and the power of the Mark, and the Enemy. The Ring passed over the Mountains and the South-gate-white Mordor, and the S\n",
      "Следующая эпоха\n",
      "Эпоха 180\n"
     ]
    },
    {
     "name": "stderr",
     "output_type": "stream",
     "text": [
      "88it [00:32,  2.72it/s]\n"
     ]
    },
    {
     "name": "stdout",
     "output_type": "stream",
     "text": [
      "Эпоха прошла за 32.32 секунд\n",
      "Средняя функция потерь для дискриминатора = 0.014171736835619826\n",
      "Средняя функция потерь для генератора = 15.946455348621715\n",
      "For the king and the Dark Tower of Guard, and the West of the Westfold of the Westfold. In the West of the Emyn Muil\n",
      "Следующая эпоха\n",
      "Эпоха 181\n"
     ]
    },
    {
     "name": "stderr",
     "output_type": "stream",
     "text": [
      "88it [00:32,  2.73it/s]\n"
     ]
    },
    {
     "name": "stdout",
     "output_type": "stream",
     "text": [
      "Эпоха прошла за 32.29 секунд\n",
      "Средняя функция потерь для дискриминатора = 0.02115817441815373\n",
      "Средняя функция потерь для генератора = 15.708889397707852\n",
      "For the king and his companions of the Dark Lord and the Lord of Moria, and the Galadhrim, and the Elf-lords of the\n",
      "Следующая эпоха\n",
      "Эпоха 182\n"
     ]
    },
    {
     "name": "stderr",
     "output_type": "stream",
     "text": [
      "88it [00:32,  2.71it/s]\n"
     ]
    },
    {
     "name": "stdout",
     "output_type": "stream",
     "text": [
      "Эпоха прошла за 32.53 секунд\n",
      "Средняя функция потерь для дискриминатора = 0.01674971900270479\n",
      "Средняя функция потерь для генератора = 15.023124413056808\n",
      "For the king and power of the Silverlode in the South.-B.-B.-B.-B.slemed the Sackville-Bagg\n",
      "Следующая эпоха\n",
      "Эпоха 183\n"
     ]
    },
    {
     "name": "stderr",
     "output_type": "stream",
     "text": [
      "88it [00:32,  2.72it/s]\n"
     ]
    },
    {
     "name": "stdout",
     "output_type": "stream",
     "text": [
      "Эпоха прошла за 32.39 секунд\n",
      "Средняя функция потерь для дискриминатора = 0.019606864386911515\n",
      "Средняя функция потерь для генератора = 14.373808318918401\n",
      "For the king and the horsemen of the Deeping-coomb. The hobbits looked at them and smiled. 'Do you hear meeting?' said Gandalf. 'This is the\n",
      "Следующая эпоха\n",
      "Эпоха 184\n"
     ]
    },
    {
     "name": "stderr",
     "output_type": "stream",
     "text": [
      "88it [00:32,  2.71it/s]\n"
     ]
    },
    {
     "name": "stdout",
     "output_type": "stream",
     "text": [
      "Эпоха прошла за 32.43 секунд\n",
      "Средняя функция потерь для дискриминатора = 0.022412964091596554\n",
      "Средняя функция потерь для генератора = 14.54694460738789\n",
      "For the king and the power of the Westmtongue and the Ring passed into the Wilderland, and the Dark Tower of Guard, and the Third Mars\n",
      "Следующая эпоха\n",
      "Эпоха 185\n"
     ]
    },
    {
     "name": "stderr",
     "output_type": "stream",
     "text": [
      "88it [00:32,  2.70it/s]\n"
     ]
    },
    {
     "name": "stdout",
     "output_type": "stream",
     "text": [
      "Эпоха прошла за 32.57 секунд\n",
      "Средняя функция потерь для дискриминатора = 0.0293267687537247\n",
      "Средняя функция потерь для генератора = 14.178190892392939\n",
      "For the king and the Sword of the Green Wood, and the Hornburg, and the Elf-friend of Westfold. The Men of Westernes\n",
      "Следующая эпоха\n",
      "Эпоха 186\n"
     ]
    },
    {
     "name": "stderr",
     "output_type": "stream",
     "text": [
      "88it [00:32,  2.72it/s]\n"
     ]
    },
    {
     "name": "stdout",
     "output_type": "stream",
     "text": [
      "Эпоха прошла за 32.39 секунд\n",
      "Средняя функция потерь для дискриминатора = 0.02217419341600775\n",
      "Средняя функция потерь для генератора = 14.573866161433132\n",
      "For the king and the fields of the Men of Westfold, and the Downs of the Dark Tower, and the Great River flowers in the West. The\n",
      "Следующая эпоха\n",
      "Эпоха 187\n"
     ]
    },
    {
     "name": "stderr",
     "output_type": "stream",
     "text": [
      "88it [00:32,  2.72it/s]\n"
     ]
    },
    {
     "name": "stdout",
     "output_type": "stream",
     "text": [
      "Эпоха прошла за 32.3 секунд\n",
      "Средняя функция потерь для дискриминатора = 0.01790830866957549\n",
      "Средняя функция потерь для генератора = 14.733179417523472\n",
      "For the king and the prisoners of the Dark Lord, and the White Tower of Minas Tirith.' `But the Ring of Minas Tirith, and\n",
      "Следующая эпоха\n",
      "Эпоха 188\n"
     ]
    },
    {
     "name": "stderr",
     "output_type": "stream",
     "text": [
      "88it [00:32,  2.72it/s]\n"
     ]
    },
    {
     "name": "stdout",
     "output_type": "stream",
     "text": [
      "Эпоха прошла за 32.37 секунд\n",
      "Средняя функция потерь для дискриминатора = 0.020128904029578818\n",
      "Средняя функция потерь для генератора = 14.866954055699436\n",
      "For the king and the food and drink, and drink, and drink, and drink, and drink, and drink, and drink, and drink, drink, and dr\n",
      "Следующая эпоха\n",
      "Эпоха 189\n"
     ]
    },
    {
     "name": "stderr",
     "output_type": "stream",
     "text": [
      "88it [00:32,  2.72it/s]\n"
     ]
    },
    {
     "name": "stdout",
     "output_type": "stream",
     "text": [
      "Эпоха прошла за 32.3 секунд\n",
      "Средняя функция потерь для дискриминатора = 0.015806035802432398\n",
      "Средняя функция потерь для генератора = 15.013486883857034\n",
      "For the king and the rumour of the Dunedain, and the power of the Westfold of the Dark Lord of the Mountains of Middle-earth.\n",
      "Следующая эпоха\n",
      "Эпоха 190\n"
     ]
    },
    {
     "name": "stderr",
     "output_type": "stream",
     "text": [
      "88it [00:32,  2.72it/s]\n"
     ]
    },
    {
     "name": "stdout",
     "output_type": "stream",
     "text": [
      "Эпоха прошла за 32.37 секунд\n",
      "Средняя функция потерь для дискриминатора = 0.016900872882946383\n",
      "Средняя функция потерь для генератора = 14.973742008209229\n",
      "For the king and the news of the Dark Lord, and the Mark Lord of the Mark, and the Mountains of the Mountains of Shadowfax, and the\n",
      "Следующая эпоха\n",
      "Эпоха 191\n"
     ]
    },
    {
     "name": "stderr",
     "output_type": "stream",
     "text": [
      "88it [00:32,  2.72it/s]\n"
     ]
    },
    {
     "name": "stdout",
     "output_type": "stream",
     "text": [
      "Эпоха прошла за 32.37 секунд\n",
      "Средняя функция потерь для дискриминатора = 0.016031419724227322\n",
      "Средняя функция потерь для генератора = 15.13652981411327\n",
      "For the king and the power of the Westmarch of the Ring-bearer,' said Gandalf. `But the One Ring has been made by the Ring-bearer, and the Ring\n",
      "Следующая эпоха\n",
      "Эпоха 192\n"
     ]
    },
    {
     "name": "stderr",
     "output_type": "stream",
     "text": [
      "88it [00:32,  2.72it/s]\n"
     ]
    },
    {
     "name": "stdout",
     "output_type": "stream",
     "text": [
      "Эпоха прошла за 32.34 секунд\n",
      "Средняя функция потерь для дискриминатора = 0.016663818100906527\n",
      "Средняя функция потерь для генератора = 15.211312380704014\n",
      "For the king and held up his hands and raised his hand. 'Let us go!' said Legolas. 'Let us go!' said Legolas. 'Let us go!' said Legolas\n",
      "Следующая эпоха\n",
      "Эпоха 193\n"
     ]
    },
    {
     "name": "stderr",
     "output_type": "stream",
     "text": [
      "88it [00:32,  2.72it/s]\n"
     ]
    },
    {
     "name": "stdout",
     "output_type": "stream",
     "text": [
      "Эпоха прошла за 32.37 секунд\n",
      "Средняя функция потерь для дискриминатора = 0.02609474333638156\n",
      "Средняя функция потерь для генератора = 15.629078149795532\n",
      "For the king and beneath the Sun upon the Sun, and the Mountains of the Great Sea. After a while he spoke. 'Elendil! '\n",
      "Следующая эпоха\n",
      "Эпоха 194\n"
     ]
    },
    {
     "name": "stderr",
     "output_type": "stream",
     "text": [
      "88it [00:32,  2.72it/s]\n"
     ]
    },
    {
     "name": "stdout",
     "output_type": "stream",
     "text": [
      "Эпоха прошла за 32.34 секунд\n",
      "Средняя функция потерь для дискриминатора = 0.020720016038632657\n",
      "Средняя функция потерь для генератора = 15.014919898726724\n",
      "For the king and the power of the world, and the Silverlode flowed down to the Sea, and the Great River flowed down into the West.\n",
      "Следующая эпоха\n",
      "Эпоха 195\n"
     ]
    },
    {
     "name": "stderr",
     "output_type": "stream",
     "text": [
      "88it [00:32,  2.73it/s]\n"
     ]
    },
    {
     "name": "stdout",
     "output_type": "stream",
     "text": [
      "Эпоха прошла за 32.29 секунд\n",
      "Средняя функция потерь для дискриминатора = 0.02691765428806486\n",
      "Средняя функция потерь для генератора = 14.629708831960505\n",
      "For the king and his faithful Kingdom, and the heir of Isildur, and the Battle of Gondor. The Three of the Third Mars\n",
      "Следующая эпоха\n",
      "Эпоха 196\n"
     ]
    },
    {
     "name": "stderr",
     "output_type": "stream",
     "text": [
      "88it [00:32,  2.70it/s]\n"
     ]
    },
    {
     "name": "stdout",
     "output_type": "stream",
     "text": [
      "Эпоха прошла за 32.61 секунд\n",
      "Средняя функция потерь для дискриминатора = 0.027636887897560056\n",
      "Средняя функция потерь для генератора = 14.336988199840892\n",
      "For the king and burst into the Westfold-men, and the Dark Lords of Mordor, and the Mountains of the Emyn Muil,\n",
      "Следующая эпоха\n",
      "Эпоха 197\n"
     ]
    },
    {
     "name": "stderr",
     "output_type": "stream",
     "text": [
      "88it [00:32,  2.71it/s]\n"
     ]
    },
    {
     "name": "stdout",
     "output_type": "stream",
     "text": [
      "Эпоха прошла за 32.53 секунд\n",
      "Средняя функция потерь для дискриминатора = 0.029794627155669415\n",
      "Средняя функция потерь для генератора = 13.654586531899191\n",
      "For the king and the power of the Wild men. The Orcs are gone with the East, and the Dark Lord of Mordor, and the Elf-lords of the\n",
      "Следующая эпоха\n",
      "Эпоха 198\n"
     ]
    },
    {
     "name": "stderr",
     "output_type": "stream",
     "text": [
      "88it [00:32,  2.72it/s]\n"
     ]
    },
    {
     "name": "stdout",
     "output_type": "stream",
     "text": [
      "Эпоха прошла за 32.3 секунд\n",
      "Средняя функция потерь для дискриминатора = 0.02908922120017947\n",
      "Средняя функция потерь для генератора = 13.505255980925126\n",
      "For the king and the White Hand of Mordor. The Sword of the Enemy is found in the Elder Days, and the Third Marshal of\n",
      "Следующая эпоха\n",
      "Эпоха 199\n"
     ]
    },
    {
     "name": "stderr",
     "output_type": "stream",
     "text": [
      "88it [00:32,  2.72it/s]\n"
     ]
    },
    {
     "name": "stdout",
     "output_type": "stream",
     "text": [
      "Эпоха прошла за 32.34 секунд\n",
      "Средняя функция потерь для дискриминатора = 0.026744674621692287\n",
      "Средняя функция потерь для генератора = 13.683618469671769\n",
      "For the king and the Sword of the Elendil's son of Arathorn. The sword of Elendil, the sword of Elendil's son of Ele\n",
      "Следующая эпоха\n",
      "Эпоха 200\n"
     ]
    },
    {
     "name": "stderr",
     "output_type": "stream",
     "text": [
      "88it [00:32,  2.72it/s]\n"
     ]
    },
    {
     "name": "stdout",
     "output_type": "stream",
     "text": [
      "Эпоха прошла за 32.35 секунд\n",
      "Средняя функция потерь для дискриминатора = 0.020338753253533716\n",
      "Средняя функция потерь для генератора = 13.198955795981668\n",
      "For the king and the White Mountains of Minas Anor. It was a great deeds of Men and the Dark Tower of Gondor and the Westfindel\n",
      "Следующая эпоха\n",
      "Эпоха 201\n"
     ]
    },
    {
     "name": "stderr",
     "output_type": "stream",
     "text": [
      "88it [00:32,  2.72it/s]\n"
     ]
    },
    {
     "name": "stdout",
     "output_type": "stream",
     "text": [
      "Эпоха прошла за 32.35 секунд\n",
      "Средняя функция потерь для дискриминатора = 0.029419925929026\n",
      "Средняя функция потерь для генератора = 12.907157030972568\n",
      "For the king and the power of the Dark Tower of the Mountains of Gondor, and the Sea-Belfalas, and the Sword of Elend\n",
      "Следующая эпоха\n",
      "Эпоха 202\n"
     ]
    },
    {
     "name": "stderr",
     "output_type": "stream",
     "text": [
      "88it [00:32,  2.72it/s]\n"
     ]
    },
    {
     "name": "stdout",
     "output_type": "stream",
     "text": [
      "Эпоха прошла за 32.38 секунд\n",
      "Средняя функция потерь для дискриминатора = 0.026346131899944423\n",
      "Средняя функция потерь для генератора = 12.846954800865866\n",
      "For the king and given to the Ford of the Dark Tower, and the Mountains of Gondor, and the Mountains of Shadowfax, and the Thir\n",
      "Следующая эпоха\n",
      "Эпоха 203\n"
     ]
    },
    {
     "name": "stderr",
     "output_type": "stream",
     "text": [
      "88it [00:32,  2.70it/s]\n"
     ]
    },
    {
     "name": "stdout",
     "output_type": "stream",
     "text": [
      "Эпоха прошла за 32.56 секунд\n",
      "Средняя функция потерь для дискриминатора = 0.02907615688970757\n",
      "Средняя функция потерь для генератора = 12.774502472444015\n",
      "For the king and the corner of the White Mountains and the Dark Lords of Moria, and the Mountains of Minas Tirith, and the Elves of\n",
      "Следующая эпоха\n",
      "Эпоха 204\n"
     ]
    },
    {
     "name": "stderr",
     "output_type": "stream",
     "text": [
      "88it [00:32,  2.73it/s]\n"
     ]
    },
    {
     "name": "stdout",
     "output_type": "stream",
     "text": [
      "Эпоха прошла за 32.29 секунд\n",
      "Средняя функция потерь для дискриминатора = 0.031308786225219425\n",
      "Средняя функция потерь для генератора = 13.007877945899963\n",
      "For the king and his companions stood silent. He gazed at the gate in silence of the East Wall, and then he turned to the edge of the hill\n",
      "Следующая эпоха\n",
      "Эпоха 205\n"
     ]
    },
    {
     "name": "stderr",
     "output_type": "stream",
     "text": [
      "88it [00:32,  2.73it/s]\n"
     ]
    },
    {
     "name": "stdout",
     "output_type": "stream",
     "text": [
      "Эпоха прошла за 32.28 секунд\n",
      "Средняя функция потерь для дискриминатора = 0.034790710342349485\n",
      "Средняя функция потерь для генератора = 12.773861668326639\n",
      "For the king and the rumour of the Dark Lord, and the Mountains of the Mountains of the East Western Middle-earth. After the\n",
      "Следующая эпоха\n",
      "Эпоха 206\n"
     ]
    },
    {
     "name": "stderr",
     "output_type": "stream",
     "text": [
      "88it [00:32,  2.72it/s]\n"
     ]
    },
    {
     "name": "stdout",
     "output_type": "stream",
     "text": [
      "Эпоха прошла за 32.3 секунд\n",
      "Средняя функция потерь для дискриминатора = 0.03271440037960102\n",
      "Средняя функция потерь для генератора = 12.827745199203491\n",
      "For the king and his men of the Dunedain, and the Dark Lord of the Mordor of the Mark, who dwell to the Mark of Middle-earth\n",
      "Следующая эпоха\n",
      "Эпоха 207\n"
     ]
    },
    {
     "name": "stderr",
     "output_type": "stream",
     "text": [
      "88it [00:32,  2.70it/s]\n"
     ]
    },
    {
     "name": "stdout",
     "output_type": "stream",
     "text": [
      "Эпоха прошла за 32.61 секунд\n",
      "Средняя функция потерь для дискриминатора = 0.028836961957329713\n",
      "Средняя функция потерь для генератора = 12.747031461108815\n",
      "For the king and power of the Enemy. The Ring passed over the Ring and his sword, and he saw that it seemed to be glowing in his own land. 'Entil!' he\n",
      "Следующая эпоха\n",
      "Эпоха 208\n"
     ]
    },
    {
     "name": "stderr",
     "output_type": "stream",
     "text": [
      "88it [00:32,  2.72it/s]\n"
     ]
    },
    {
     "name": "stdout",
     "output_type": "stream",
     "text": [
      "Эпоха прошла за 32.37 секунд\n",
      "Средняя функция потерь для дискриминатора = 0.025907537235814907\n",
      "Средняя функция потерь для генератора = 13.324747226454996\n",
      "For the king and his companions. The Riders cried to the Riders and the Riders of the Riders of Rohan. The Riders of the White Ridders, and the\n",
      "Следующая эпоха\n",
      "Эпоха 209\n"
     ]
    },
    {
     "name": "stderr",
     "output_type": "stream",
     "text": [
      "88it [00:32,  2.72it/s]\n"
     ]
    },
    {
     "name": "stdout",
     "output_type": "stream",
     "text": [
      "Эпоха прошла за 32.39 секунд\n",
      "Средняя функция потерь для дискриминатора = 0.027881593053858855\n",
      "Средняя функция потерь для генератора = 13.398190780119462\n",
      "For the king and his companions stood up, and held the raising of his sword. 'Your pardon!' cried Aragorn. 'Griel! I am sorry\n",
      "Следующая эпоха\n",
      "Эпоха 210\n"
     ]
    },
    {
     "name": "stderr",
     "output_type": "stream",
     "text": [
      "88it [00:32,  2.71it/s]\n"
     ]
    },
    {
     "name": "stdout",
     "output_type": "stream",
     "text": [
      "Эпоха прошла за 32.51 секунд\n",
      "Средняя функция потерь для дискриминатора = 0.022888900088053724\n",
      "Средняя функция потерь для генератора = 13.73051311753013\n",
      "For the king and rode on the grass of the hills and the hills of the Emyn Muil, and the East Rohirruin of Isildur's\n",
      "Следующая эпоха\n",
      "Эпоха 211\n"
     ]
    },
    {
     "name": "stderr",
     "output_type": "stream",
     "text": [
      "88it [00:32,  2.72it/s]\n"
     ]
    },
    {
     "name": "stdout",
     "output_type": "stream",
     "text": [
      "Эпоха прошла за 32.31 секунд\n",
      "Средняя функция потерь для дискриминатора = 0.01134590598898781\n",
      "Средняя функция потерь для генератора = 14.17166891964999\n",
      "For the king and his companions were gravelled with the Orcs. The Orcs were gone. The Dwarves were gathered in the Deeping-stream\n",
      "Следующая эпоха\n",
      "Эпоха 212\n"
     ]
    },
    {
     "name": "stderr",
     "output_type": "stream",
     "text": [
      "88it [00:32,  2.70it/s]\n"
     ]
    },
    {
     "name": "stdout",
     "output_type": "stream",
     "text": [
      "Эпоха прошла за 32.59 секунд\n",
      "Средняя функция потерь для дискриминатора = 0.02961272126743676\n",
      "Средняя функция потерь для генератора = 13.672053933143616\n",
      "For the king and burdens of the Emyn Muil, the Mountains of Muil, and the East Rohirrim of the Enemy against the\n",
      "Следующая эпоха\n",
      "Эпоха 213\n"
     ]
    },
    {
     "name": "stderr",
     "output_type": "stream",
     "text": [
      "88it [00:32,  2.71it/s]\n"
     ]
    },
    {
     "name": "stdout",
     "output_type": "stream",
     "text": [
      "Эпоха прошла за 32.52 секунд\n",
      "Средняя функция потерь для дискриминатора = 0.02843810981523182\n",
      "Средняя функция потерь для генератора = 13.240815281867981\n",
      "For the king and the purposes of the White Riders saw the Dark Lord, and the Swords of Minas Tirith, and the Sword of the\n",
      "Следующая эпоха\n",
      "Эпоха 214\n"
     ]
    },
    {
     "name": "stderr",
     "output_type": "stream",
     "text": [
      "88it [00:32,  2.70it/s]\n"
     ]
    },
    {
     "name": "stdout",
     "output_type": "stream",
     "text": [
      "Эпоха прошла за 32.56 секунд\n",
      "Средняя функция потерь для дискриминатора = 0.025367778017508415\n",
      "Средняя функция потерь для генератора = 13.725178371776234\n",
      "For the king and power of the Ring-bearer? ' `Hullo! ' said Frodo. `Yes,' said Frodo, `and I do not know what I mean. But I do not know\n",
      "Следующая эпоха\n",
      "Эпоха 215\n"
     ]
    },
    {
     "name": "stderr",
     "output_type": "stream",
     "text": [
      "88it [00:32,  2.72it/s]\n"
     ]
    },
    {
     "name": "stdout",
     "output_type": "stream",
     "text": [
      "Эпоха прошла за 32.4 секунд\n",
      "Средняя функция потерь для дискриминатора = 0.018384110238747035\n",
      "Средняя функция потерь для генератора = 13.774697076190602\n",
      "For the king and the news of the Westfolded the Dark Lord. Theoden son of Arathorn of Elendil's son of Arathorn,\n",
      "Следующая эпоха\n",
      "Эпоха 216\n"
     ]
    },
    {
     "name": "stderr",
     "output_type": "stream",
     "text": [
      "88it [00:32,  2.70it/s]\n"
     ]
    },
    {
     "name": "stdout",
     "output_type": "stream",
     "text": [
      "Эпоха прошла за 32.6 секунд\n",
      "Средняя функция потерь для дискриминатора = 0.016319948857761283\n",
      "Средняя функция потерь для генератора = 13.968154625459151\n",
      "For the king and his company of the Elf-lords of the Dwarf, and the Dwarf-kings of the Dwarf-kings of the Dwarf-k\n",
      "Следующая эпоха\n",
      "Эпоха 217\n"
     ]
    },
    {
     "name": "stderr",
     "output_type": "stream",
     "text": [
      "88it [00:32,  2.72it/s]\n"
     ]
    },
    {
     "name": "stdout",
     "output_type": "stream",
     "text": [
      "Эпоха прошла за 32.33 секунд\n",
      "Средняя функция потерь для дискриминатора = 0.01981392468257003\n",
      "Средняя функция потерь для генератора = 14.295753739096902\n",
      "For the king and the fogs of the Emyn Muil, and the pursuit was driven in the Eastfarthing that had been lost in the\n",
      "Следующая эпоха\n",
      "Эпоха 218\n"
     ]
    },
    {
     "name": "stderr",
     "output_type": "stream",
     "text": [
      "88it [00:32,  2.71it/s]\n"
     ]
    },
    {
     "name": "stdout",
     "output_type": "stream",
     "text": [
      "Эпоха прошла за 32.44 секунд\n",
      "Средняя функция потерь для дискриминатора = 0.015531893567557827\n",
      "Средняя функция потерь для генератора = 14.562633362683384\n",
      "For the king and his companions sat down in the Shire; but he did not know much of the Black Riders. He was sitting on the ground. He was sitting\n",
      "Следующая эпоха\n",
      "Эпоха 219\n"
     ]
    },
    {
     "name": "stderr",
     "output_type": "stream",
     "text": [
      "20it [00:07,  2.51it/s]"
     ]
    },
    {
     "name": "stdout",
     "output_type": "stream",
     "text": [
      "Досрочно остановлено пользователем\n"
     ]
    },
    {
     "name": "stderr",
     "output_type": "stream",
     "text": [
      "\n"
     ]
    }
   ],
   "source": [
    "batch_size = 64\n",
    "\n",
    "model_D, model_G, optimizer_D, optimizer_G, loss_history_D, loss_history_G = train_loop_GAN(\n",
    "    D_model,\n",
    "    G_model,\n",
    "    all_dataset,\n",
    "    lm_b_cross_entropy,\n",
    "    lr_D=1e-2,\n",
    "    lr_G=1e-4,\n",
    "    epoch_n=1000,\n",
    "    batch_size=batch_size,\n",
    "    device='cuda',\n",
    "    # early_optimizer_SD_D=optimizer_SD_D,\n",
    "    early_optimizer_SD_G=optimizer_SD_G,\n",
    "    tokenizer=tokenizer,\n",
    "    need_to_gen=True,\n",
    "    end_chunk=end_length,\n",
    "    pharse=\"For the king and \"\n",
    ")"
   ]
  },
  {
   "cell_type": "code",
   "execution_count": 13,
   "metadata": {},
   "outputs": [],
   "source": [
    "# Сохранение всех моделей\n",
    "torch.save(model_D.state_dict(), './models/GAN/4/model_D.pth')\n",
    "torch.save(model_G.state_dict(), './models/GAN/4/model_G.pth')\n",
    "torch.save(optimizer_D.state_dict(), './models/GAN/4/optimizer_D.pth')\n",
    "torch.save(optimizer_G.state_dict(), './models/GAN/4/optimizer_G.pth')\n",
    "\n",
    "# И их loss-функций\n",
    "with open(\"./models/GAN/4/loss_D.txt\", 'w') as outf:\n",
    "    for num in loss_history_D:\n",
    "        outf.write(str(num))\n",
    "        outf.write(\"\\n\")\n",
    "\n",
    "with open(\"./models/GAN/4/loss_G.txt\", 'w') as outf:\n",
    "    for num in loss_history_G:\n",
    "        outf.write(str(num))\n",
    "        outf.write(\"\\n\")"
   ]
  },
  {
   "cell_type": "code",
   "execution_count": 9,
   "metadata": {},
   "outputs": [
    {
     "data": {
      "text/plain": [
       "<All keys matched successfully>"
      ]
     },
     "execution_count": 9,
     "metadata": {},
     "output_type": "execute_result"
    }
   ],
   "source": [
    "# Загрузка дискриминатора\n",
    "optimizer_SD_D = torch.load('./models/GAN/4/optimizer_D.pth')\n",
    "D_model.load_state_dict(torch.load('./models/GAN/4/model_D.pth'))"
   ]
  },
  {
   "cell_type": "code",
   "execution_count": 10,
   "metadata": {},
   "outputs": [
    {
     "data": {
      "text/plain": [
       "<All keys matched successfully>"
      ]
     },
     "execution_count": 10,
     "metadata": {},
     "output_type": "execute_result"
    }
   ],
   "source": [
    "# Загрузка генератора\n",
    "optimizer_SD_G = torch.load('./models/GAN/4/optimizer_G.pth')\n",
    "G_model.load_state_dict(torch.load('./models/GAN/4/model_G.pth'))"
   ]
  },
  {
   "cell_type": "code",
   "execution_count": 12,
   "metadata": {},
   "outputs": [],
   "source": [
    "beam_generator = BeamGenerator(G_model, tokenizer)"
   ]
  },
  {
   "cell_type": "code",
   "execution_count": 26,
   "metadata": {},
   "outputs": [],
   "source": [
    "def gen_some_sent(phrase, N, beam_size, need_reweight=False, temperature=0, alpha=0):\n",
    "    answers = []\n",
    "    for i in range(N):\n",
    "        beam_gen_variants = beam_generator(phrase, beamsize=beam_size, return_hypotheses_n=1, need_reweight=need_reweight, temperature=temperature, alpha=alpha)\n",
    "        for score, pred_txt in beam_gen_variants:\n",
    "            answers.append(pred_txt)\n",
    "    return answers"
   ]
  },
  {
   "cell_type": "code",
   "execution_count": 21,
   "metadata": {},
   "outputs": [
    {
     "name": "stdout",
     "output_type": "stream",
     "text": [
      "In the East Road, and the land of the Mountains and the Mountains of the Emyn Muil lie before the Mountains of Mirkwood. But\n",
      "In the East Road, and the land of the Mountains, and the Mark of the Mountains of Mirkwood, and the Elves of Men of Minas Tirith.\n",
      "In the East Windlendil's Days of Middle-earth and the swords of Elendil's son of Elendil's son of Elend\n",
      "In the East Days, and the Silverlode flowed away from the Great River, and the Great River flowed up to the Great River. The\n",
      "In the East Days of Westfold-men. In the days of the Lord of the Mark, and the Mark of the Mountains of Minas Tirith\n"
     ]
    }
   ],
   "source": [
    "answers = []\n",
    "for i in range(5):\n",
    "    beam_gen_variants = beam_generator('In the East', beamsize=5, return_hypotheses_n=1)\n",
    "    for score, pred_txt in beam_gen_variants:\n",
    "        answers.append(pred_txt)\n",
    "\n",
    "for ans in answers:\n",
    "    print(ans)"
   ]
  },
  {
   "cell_type": "code",
   "execution_count": 22,
   "metadata": {},
   "outputs": [
    {
     "name": "stdout",
     "output_type": "stream",
     "text": [
      "In the East Road, and the land of Rohan, and the Mountains of the Mountains of Middle-earth. But there was no sign of the Enem\n",
      "In the East Days of Minas Tirith, and the Elves of Men of Gondor. For the West of the Westernesse of the Westernes\n",
      "In the East Wall, and the Smarch Westfarthing in the Westfolds of the Westfold-marching in the Westfold. In\n",
      "In the East Road, and the Swords of the Mark is dwelling in the Westfarthing to find the Fords of Isen. But the Hobbits\n",
      "In the East Wall, and the Sun shining Sun upon the green grass of Rohan, and the Great River flowed, and the green floats of the\n"
     ]
    }
   ],
   "source": [
    "answers = []\n",
    "for i in range(5):\n",
    "    beam_gen_variants = beam_generator('In the East', beamsize=5, return_hypotheses_n=1, temperature=0.3, alpha=0.1)\n",
    "    for score, pred_txt in beam_gen_variants:\n",
    "        answers.append(pred_txt)\n",
    "\n",
    "for ans in answers:\n",
    "    print(ans)"
   ]
  },
  {
   "cell_type": "code",
   "execution_count": 15,
   "metadata": {},
   "outputs": [
    {
     "name": "stdout",
     "output_type": "stream",
     "text": [
      "The Sun is going to Minas Tirith, and the Sword of Minas Tirith lie of the Sea, and the Swords of Elendil's\n",
      "The Sun is going back to Minas Tirith.' `And what shall I find? ' asked Boromir. `And I do not know what I do not know,' answered Boromir. `It is\n",
      "The Sun is going back to Minas Tirith.' `And I hope we will come,' said Boromir. `But we will go to the Enemy to Muil, if we will\n",
      "The Sun is going to Minas Tirith, and the Sword of the Enemy is founded to the Northfarthing in the Enemy.' `You speak\n",
      "The Sun is going back to Minas Tirith, and the Sword of Elendil lies upon the Mountains of Minas Tirith, and the Sword of\n"
     ]
    }
   ],
   "source": [
    "answers = []\n",
    "for i in range(5):\n",
    "    beam_gen_variants = beam_generator('The Sun is going', beamsize=5, return_hypotheses_n=1, temperature=0.3, alpha=0.1, need_reweight=True)\n",
    "    for score, pred_txt in beam_gen_variants:\n",
    "        answers.append(pred_txt)\n",
    "\n",
    "for ans in answers:\n",
    "    print(ans)"
   ]
  },
  {
   "cell_type": "code",
   "execution_count": 27,
   "metadata": {},
   "outputs": [
    {
     "name": "stdout",
     "output_type": "stream",
     "text": [
      "Температура = 0, альфа = 0\n",
      "For the King and Elendil's son of Elendil's Denethor, and the Third Marshal of Elendil's son of Elend\n",
      "For the King and Glorfindel's son of Elendil's Denethor, and the Third Marshal of the Dark Lord of Gondor\n",
      "For the King and Gloin, and the Dark Lord, and the Greyflood, and the Dark Lord of the Mountains of Middle-earth.\n",
      "For the King and the Dwarf, and the Dark Lord of the Mark Lord of Mordor, and the Elf-lords of Minas Tirith, and the\n",
      "For the King and the Brandywine River. The Book of Brandywine Bridge, and the Bridge of Brandywine Bridge, Bridge\n",
      "-----\n",
      "Температура = 0, альфа = 0.1\n",
      "For the King and the Lady Galadhrim, and the Galadhrim, and the Greyflood of Lothlorien, Celeborn,\n",
      "For the King and Elendil's son of Elendil's son of Elendil, and the Third Marshal, the Third Marshal of\n",
      "For the King and the Elendil's son of Elendil, and the Third Marshal of Denethor, and the Third Marshal of\n",
      "For the King and Glorfindel's son of Elendil, and the Third Marshal of the Dark Tower of Gondor, and the Third\n",
      "For the King and Brandybucks of Bucklebury Buckland. The Brandywine Bridge, and Brandywater, Bucklebury\n",
      "-----\n",
      "Температура = 0, альфа = 0.3\n",
      "For the King and the Elves of Men of Rohan, and the Dark Lord of Minas Tirith. For the Elves of the Third Mountains of Minas Tir\n",
      "For the King and the Dark Lord of the Mountains of Gondor, and the Enemy knowledge of the Dark Lord, and the Third Marshal\n",
      "For the King and the Wizards of the House of Eorl, and the Dwarf-lords of Elendil's son of Elendil's son of\n",
      "For the King and Elendil's son of Angel, the Third Anor, the Third Marshal of Gondor, the Third Marsh\n",
      "For the King and the Lady Galadriel, and the Grey of Lothlorien of Lorien and Galadriel speak of the Lady of the Galad\n",
      "-----\n",
      "Температура = 0, альфа = 0.5\n",
      "For the King and the Lady Galadriel,' he said; `but the Lady of the Lady of the Lady Galadriel and Lady of Galadriel\n",
      "For the King and the Lady Galadriel. Clear is the Galadhrim, Celeborn Galadhras, Celeborn, and\n",
      "For the King and Elendil's son of Elendil's son of Elendil's son of Elendil's son of Elendil's son of\n",
      "For the King and the White Mountains of Minas Tirith, and the Dark Tower of Minas Tower of Moria, and the Third Marshal\n",
      "For the King and the Elf-lord of the Dark Tower of Mordor. The Ring passed over the Sea and the Sea, and the Sword of Elend\n",
      "-----\n",
      "Температура = 0.2, альфа = 0\n",
      "For the King and the Green Haldir's son of Elendil's son of Elendil's son of Elendil's son of Elendil\n",
      "For the King and Glorfindel, and the Dark Lord of the Mark Lord of the Mountains of Minas Anor, and the Elf-lords\n",
      "For the King and Elendil's son of Gondor, and the Third Marshal of Minas Tirith lie between the Mountains of Minas T\n",
      "For the King and the White Tower of Minas Tirith, and the Thirithrandir of the Third Anorburgain, the Third Marsh\n",
      "For the King and the Dwarf-kings of the Dark Lord, and the Mountains of Shadows upon the Mountains of Shadow; and the Shadows lie upon\n",
      "-----\n",
      "Температура = 0.2, альфа = 0.1\n",
      "For the King and Elendil's son of Elendil's son of Elendil, and the Third Marshal of Minas Tirith, and the\n",
      "For the King and Elendil's son of Denethor, and the Third Marshal of Durin, and the Dark Tower of Guldor.\n",
      "For the King and the Brandybucks of Buckland, and the Brandywine Bridge, Brandybuck, Brandybuck, Brandybuck\n",
      "For the King and the Westfarthing, and the Dark Tower of Mordor, and the Ring-lords of the Ring-bearer, and the Ring-bearer\n",
      "For the King and the White Riders of Rohan, and the White Riders of Rohan, and the Riders of Rohan, and the White Mountains of Roh\n",
      "-----\n",
      "Температура = 0.2, альфа = 0.3\n",
      "For the King and Glorfindel's son of Denethor and the Dark Lord, and the Mountains of Minas Tirith. For the Lord of\n",
      "For the King and the Greyfarthing in the Dark Lord, and the Black Lords of Mordor, and the Black Lord of Minas Tir\n",
      "For the King and Elendil's son of Arathorn, the Third Marshal of Durin, the Third Marshal of the Dark Lord\n",
      "For the King and the Brandybucks of Buckland lieside the Bridge of the Brandywine Bridge, and the Brandywine Bridge,\n",
      "For the King and Elendil's son of Erkenbrand, and the Third Marshal of the Dark Lord, the Mountains of Minas Tir\n",
      "-----\n",
      "Температура = 0.2, альфа = 0.5\n",
      "For the King and the West-daughter of the Elder Days before the Days of Marshel Delving Marshes of Minas Tirith, and\n",
      "For the King and the Brandywine Bridge of Brandybucks and Buckland, Brandybuck, and Brandybuck, Bucklebury\n",
      "For the King and the Brandywine Bridge, and the Brandywine Bridge, and the Brandywine Bridge, and the Bridge of the B\n",
      "For the King and the Brandybucks of Brandywine Bridge, and Brandywine Bridge, and Bridge, Brandybucks, Br\n",
      "For the King and the White Riders of Rohan, and the Enemy has passed through Muil, and the Third Marshal of Minas Tirith,\n",
      "-----\n",
      "Температура = 0.5, альфа = 0\n",
      "For the King and Eomer son of Anorl, and the Third Marshal of Elendil, and the Third Marshal of Gondor,\n",
      "For the King and the Elves of Men of Westernesse, and the Dark Lord of Rohan, and the Dark Tower of Minas Tirith, and the S\n",
      "For the King and Elendil's son of Arathorn, and the Third Marshal of Moria. This was the Third Marshal, and\n",
      "For the King and the White Mountains of Minas Tirith. For the Elves of the Elves of Men of Middle-earth, and the Dark Tower of Gondor\n",
      "For the King and Brandybucks of Book, and Brandybucks, Bucklebury Bolgers, Bolgers, Bracegers, B\n",
      "-----\n",
      "Температура = 0.5, альфа = 0.1\n",
      "For the King and the Lord of Rohan, and the Great River flowed away from the Galadhrim, and the Green Hornburg, and the\n",
      "For the King and Elendil's son of Denethor, and the Third Marshal of the Dark Lord. The Third Marshal of the\n",
      "For the King and Elendil's son of Gondor, and the Third Marshal of the Third Marshal of Minas Tirith, and the\n",
      "For the King and the Lady Galadhrim, and the Third Mark of Rohan, and the Great Windlord of the Dark Lord of the Mark\n",
      "For the King and the Lady Galadriel speaking of the Lady of the Lady Galadriel who son of Elendil's son of Elendil's\n",
      "-----\n",
      "Температура = 0.5, альфа = 0.3\n",
      "For the King and Elendil's son of Elendil's son of Elendil's son of Elendil's son of Elendil's son of\n",
      "For the King and 11193418-longue, and the Three of the Three Peregrin Took, and the Brandybucks of B\n",
      "For the King and the Westfolds of Rohan, and the Dark Tower of the Mountains of Minas Tirith, and the Sword of Elendil\n",
      "For the King and the Brandywine Bridge, and the Bridge of the Brandybucks of Brandywine Bridge. The Brandybucks\n",
      "For the King and the Brandybucks of Buckland. The Brandywine Bridge, and Brandy Hall, Brandybuck, Brandybuck\n",
      "-----\n",
      "Температура = 0.5, альфа = 0.5\n",
      "For the King and the Dwarf-house of Elendil's Dike, and the Dwarves of the Dark Lord, and the Lord of the Mountains of the\n",
      "For the King and the White Riders of Rohan, and the White Riders, and the horsemen of Rohan, and the horsemen of Rohan sprang\n",
      "For the King and Brandybucks of Buckland, and Brandybucks, Bolgers, Bracegers, Bolgers, Bolgers, B\n",
      "For the King and the White Tower of Guldor, and the Three, and the Thains of Minas Tirith, and the Third Marshal of the\n",
      "For the King and the Gates of Rohan, and the Dwarf, and the Dark Lord of the Mark Lord of the Mark Lord of Mordor, and the\n",
      "-----\n",
      "Температура = 0.8, альфа = 0\n",
      "For the King and Elendil's son of Elendil's son of Elendil's son of Elendil's son of Elendil's son of\n",
      "For the King and in the Westfarthing, and the Hobbits of the Shire, and the Third Marshal of Michel Del's Delviel.\n",
      "For the King and the Lord of Rohan, and the White Tower of Minas Tirith.' `The Three, Lord of Galadriel,' said Faramir\n",
      "For the King and the Dark Lord of Minas Tirith, and the Elves of Gondor, and the Wise of the Dark Lord, and the Lord of the Mark\n",
      "For the King and the Brandywine Bridge of the Brandywine Bridge of the Brandywine Bridge. The Bucklanders, Brandyb\n",
      "-----\n",
      "Температура = 0.8, альфа = 0.1\n",
      "For the King and Brandybucks of Brandywine Bridge, and the Brandywine Bridge. The Brandywine Bridge of Bridg\n",
      "For the King and the White Tower of Middle-earth, and the Seldom of the Ring-bearer and the Old Tower of Minas Tirith.\n",
      "For the King and Elendil's son of Elendil's son of Denethor, and the Third Marshal of Denethor, and the\n",
      "For the King and the Elendil's son of Elendil's son of Elendil's son of Elendil's son of Elendil's son\n",
      "For the King and Elendil's son of Elendil's son of Denethor, and the Third Marshal of Elendil's son of\n",
      "-----\n",
      "Температура = 0.8, альфа = 0.3\n",
      "For the King and Elendil's son of Elendil's son of Denethor, and the Three, the Third Marshal of Gondor,\n",
      "For the King and Elendil's son of Elendil's son of Elendil's son of Elendil's son of Elendil's son of\n",
      "For the King and the Greyfields of the Fair, and the Hornburg, and the House of Elendil's son of Elendil's Day\n",
      "For the King and the Greyflood. The Elves called the Hornburg, and the Men of Rohan, and the Dark Lord of Mordor, and the\n",
      "For the King and Elendil's son of Denethor, and the Thror of Galadhrim, the Third Marshal of the Third\n",
      "-----\n",
      "Температура = 0.8, альфа = 0.5\n",
      "For the King and Elendil, and the Dark Lord of the Mark Lordor, and the Mountains of Minas Tirith, and the Sword of the E\n",
      "For the King and the Lord of Mordor, and the Enemy. This was the Third Marshal of the Third Marshal, and the Third\n",
      "For the King and Elendil's son of Elendil's son of Elendil, and the Third Marshal of Elendil's son of E\n",
      "For the King and the Lady Galadriel speak of the Lady of the Lorien, and the Galadhirrim of the Lady of the Galadhrim\n",
      "For the King and the White Riders of the Mountains of Rohan, and the White Riders of Rohan, and the Elf-friends of the Dark Lord,\n",
      "-----\n"
     ]
    }
   ],
   "source": [
    "temperatures = [0, 0.2, 0.5, 0.8]\n",
    "alphas = [0, 0.1, 0.3, 0.5]\n",
    "\n",
    "all_test = itertools.product(temperatures, alphas)\n",
    "\n",
    "for t, a in all_test:\n",
    "    print(f\"Температура = {t}, альфа = {a}\")\n",
    "    answers = gen_some_sent(\"For the King and\", 5, 10, True, t, a)\n",
    "    for ans in answers:\n",
    "        print(ans)\n",
    "    print(\"-----\")"
   ]
  },
  {
   "cell_type": "code",
   "execution_count": 28,
   "metadata": {},
   "outputs": [
    {
     "name": "stdout",
     "output_type": "stream",
     "text": [
      "Температура = 0, альфа = 0\n",
      "The Sun is broken, and the Silverlode flows of the Green Havens of Numenor. After the Elves of the Men of Roh\n",
      "The Sun is in the Westfarth, and the Dark Lord of Minas Tirith. But the Lord of Minas Tirith lie of the Lord of\n",
      "The Sun is broken, and the Sea shall bring us to the Galadhon, and the Galadhrim of the West of the Elder Days\n",
      "The Sun is broken, and the Sword of Elendil's swords of Elendil, and the swords of Elendil's son of Elendil's\n",
      "The Sun is the Great River, and the Semeagol Galadhrim, and the Sea, and the Swords of Westernesse.\n",
      "-----\n",
      "Температура = 0, альфа = 0.1\n",
      "The Sun is deserted.' 'Yes,' said Glorfindel, 'if the Dark Lord of the Mark Tower of the Mountains of Middle-\n",
      "The Sun is drawing near to the South, and the Mountains of the Mountains of the Silverlode, and the Gates of Galadriel\n",
      "The Sun is too great for us.' `No, no! ' said Gollum. `No! ' said Frodo. `All right! ' said Frodo. `Smeagol doesn't know it.\n",
      "The Sun is shining through the South. There is no sign of the Gates of Rohan.' `No, no!' said Gimli. 'My dear old hobbit,\n",
      "The Sun is still, and the Sword of Elendil's son of Elendil's son of Elendil's son of Elendil's son of\n",
      "-----\n",
      "Температура = 0, альфа = 0.3\n",
      "The Sun is clouded in the Westfold, and the Dark Lord of Lord, and the Mountains of the Mountains of the Emyn Muil,\n",
      "The Sun is craft of the Second of the Elder Days before the Days of Minas Tirith, and the Silverlode of the\n",
      "The Sun is long ago, and the Men of Gondor, and the West of Westernesse, and the Windreds of the Longburgothlorien\n",
      "The Sun is the helms of Middle-earth that the Dark Lord of Minas Tirith.' `The Third Marshal of Minas Tir\n",
      "The Sun is called, and the Dark Lord of Mordor, and the Dark Tower of the Mountains of the Mountains of Middle-earth. The world is\n",
      "-----\n",
      "Температура = 0, альфа = 0.5\n",
      "The Sun is the Sun, and the Silverlode flows in the Sea, and the Gate of Gondor, and the Lady Galadriel.\n",
      "The Sun is close to the South-water of the Emyn Muil lies in the North, and the East West of the Sea, and\n",
      "The Sun is said that the West of the Westfold of Westernesse of Lorien, and the Galadhrim of the Lady of Lorien.\n",
      "The Sun is closer to the South-gates of the Elder Days of the Elder Days, and the Dark Lord of the Mark Lordor\n",
      "The Sun is no longer than the Wood. Nothing has ever heard of the Great Ring-bearer, and the Dark Tower of Guards of Gondor,\n",
      "-----\n",
      "Температура = 0.2, альфа = 0\n",
      "The Sun is carried, and the South of Westernesse are in the West, and the Westmtongue of the Emyn Muil, and\n",
      "The Sun is full of the Sun, and the Sevens of the Elder Days of the Westernesse. The Men of Westernesse are\n",
      "The Sun is still too great. Some of the Men of the Westernesse in the Dark Tower of Mordor, and the Lord of Mark, and the Mark\n",
      "The Sun island in the Westfold, and the Dark Lord of Mordor, and the Mountains of the Mountains of Middle-earth. One Ring\n",
      "The Sun is no good speed.' 'Yes, yes, yes, yes, I,' said Gollum. `Ah! ' said Gollum. `No, no! ' said Gollum. `Sme\n",
      "-----\n",
      "Температура = 0.2, альфа = 0.1\n",
      "The Sun is warmer than the Westfold of the Dark Lord, and the Lord of the Mark, and the Mountains of Minas Tirith, and the\n",
      "The Sun is dangerous.' 'Dangerous!' said Gimli. 'Let us go!' said Legolas. 'But we are not going to Minas Tirith. My heart desires\n",
      "The Sun is fond of the Westfold, and the Dark Lord of the Lord of the Lord of Mark, and the Mountains of Middle-earth.\n",
      "The Sun is long ago,' said Glorfindel, `and I fear that you may see the Great Enemy.' `No indeed,' said Boromir, `but it is\n",
      "The Sun is called _The Parth Galadhrim, and the Sword-stone, and the Dark Tower of Galadhrim, and the\n",
      "-----\n",
      "Температура = 0.2, альфа = 0.3\n",
      "The Sun is carven in the South, and the Sword of the Westfolds of the Westernesse of the Long Longbottom Lea\n",
      "The Sun is moving.' `No, no, no! ' said Gollum. `Smeagol! ' said Gollum. `Nice master! ' said Gollum. `Smeagol\n",
      "The Sun is drawing near to the Middle-earth.' 'Then let us go!' said Gimli. 'Let us go!' said Gimli. 'Let us hope we must go\n",
      "The Sun is broken, and the Sword of Elendil lies upon the North. The sword of Elendil's son of Elendil's son of\n",
      "The Sun island and the Grey Havens of Middle-earth. Neither Never northern Minas Tirith the Sea, nor the\n",
      "-----\n",
      "Температура = 0.2, альфа = 0.5\n",
      "The Sun is dangerous, and the Swords of the Westfarthings of Men. For the Elves of the Dark Lord of the Mark Lord of Mordor\n",
      "The Sun is the Gate of Westernesse.' Theoden King's horse, and Aragorn son of Arathorn spoke of Eomundil, and the\n",
      "The Sun is full of the Enemy's Duath, and the Dark Lord of the Mark Lord of Mordor, and the Shadows of Minas T\n",
      "The Sun is broken, and the Sword-s of the Emyn Muil lies in the Seas Age of Elendil's son of Arath\n",
      "The Sun is the South, and the Seven-Bearer to the Land of the Lord of Minas Tirith. For the Elves of Minas Tirith\n",
      "-----\n",
      "Температура = 0.5, альфа = 0\n",
      "The Sun is long ago,' said Gimli. 'Gandalf of the Lord of the Lady Galadriel who son of Galadriel speak of the Lady of Galad\n",
      "The Sun is too great for us.' `Now, no! ' said Gimli. `No! ' said Legolas. `Let us go! ' said Legolas. `You have not seen them since\n",
      "The Sun is on us.' `No, no! ' said Frodo. `But I do not know what I can't do. I can't think of it.' `No, no! ' said Gollum\n",
      "The Sun is dangerous.' 'Gandalf!' said Theoden. 'Farewell, my friends!' said Theoden. 'Maybe,' said Theoden. 'For\n",
      "The Sun is wrought, and the Dark Lord knows of the Great River, and the Greyflood of the Dark Lord, and the Great River\n",
      "-----\n",
      "Температура = 0.5, альфа = 0.1\n",
      "The Sun is closer,' said Gimli. 'Let us go! ' said Legolas. 'Let us go on! Let us go! Let us go and look! Leave them!\n",
      "The Sun is front of us.' 'Maybe,' said Gimli. 'Maybe,' said Gimli. 'But I have not heard of the Riders of the Dwarves since the Dwar\n",
      "The Sun is full of the Enemy's Days of Minas Tirith. It is the Elves of Minas Tirith, and the Sword of Gond\n",
      "The Sun is beneath the roof of the Emyn Muil.' 'Yet there is no sign of the Dwarf,' said Gimli. 'Let us hope\n",
      "The Sun is climbing up to the South, and east of the Emyn Muil. There is no sign of the Eastern Muil, and the Sea.\n",
      "-----\n",
      "Температура = 0.5, альфа = 0.3\n",
      "The Sun is dangerous in Middle-earth.' `No, no! ' said Gimli. `And I do not know what I can't see. I can't see what I\n",
      "The Sun is long ago, and the Sword of the Greyflood, and the Nine Windred Lord of the Mountains of the Mountains of Shadow.\n",
      "The Sun is long ago, and the Great Windel, and the Dark Lord of the Mark Lord of Mordor, and the Mountains of Middle-earth\n",
      "The Sun is in the Westfarthing, and the Dark Lord of the Lord of the Rings of Minas Tirith, and the Lord of Galadhr\n",
      "The Sun is calling _The Precious_, _mountains_, _gollum_, _gollum_, _gollum_, _gollum_, _gollum\n",
      "-----\n",
      "Температура = 0.5, альфа = 0.5\n",
      "The Sun is burned in the Sea. There is no sign of the Men of Western Middle-earth and the Lord of Galadhrim,\n",
      "The Sun is dim, and the Sword of Elendil's son of Elendil's sword.' 'Yes,' said Theoden. 'Maybe,' said Gandalf.\n",
      "The Sun is, and the Sword of Elendil's son of Elendil's son of Elendil, and the Third Marshal of Ele\n",
      "The Sun is closed in the Westfold, and the West of the Westfold of the Westfold-marching in the world. After a while\n",
      "The Sun is the Gates of Rohan.' `Not yet,' said Gamgee, 'and I am afraid. I am not going to see what I do. I do\n",
      "-----\n",
      "Температура = 0.8, альфа = 0\n",
      "The Sun is still aware of the Great River, and the Green Windlets of the Lord of the Mountains of the Mountains of Middle-\n",
      "The Sun is broken, and the Silverlode flowers of the Great River, and the Sea, and the Sword of Galadhrim,\n",
      "The Sun is burning in the Westfold of the Westfold, and the Westfold, the Westfold-marching in the Westfolds\n",
      "The Sun is the Watchers of Men, and the Dark Lord of the Mark Lord of the Mountains of Minas Tirith. But the Enemy\n",
      "The Sun is too great for us.' `No, no! ' said Gollum. `No, no! ' said Gollum. `No! ' said Gollum. `Not yet. Sme\n",
      "-----\n",
      "Температура = 0.8, альфа = 0.1\n",
      "The Sun is drawing near to Middle-earth.' 'Dark is the way of Rohan,' said Gandalf. 'There is Shadowfax in the West, and\n",
      "The Sun is no longer for us.' `Now,' said Gloin. `But we must go with you.' `No! ' said Frodo. `And what shall I do? '\n",
      "The Sun is the South, and the Sword of Elendil's son of Elendil's son of Elendil's son of Elendil's s\n",
      "The Sun is broken tongues of the Great River, and the Silverlodelode flowers of the Sea, and the Great River is\n",
      "The Sun issuing of the Enemy's Days before the Dark Lord of Mordor, and the Mountains of Minas Tirith.' `And\n",
      "-----\n",
      "Температура = 0.8, альфа = 0.3\n",
      "The Sun is broken. Once Elendil's son of Elendil's son of Elendil's son of Elendil's son of Ele\n",
      "The Sun is close enough to us,' said Gimli. 'Let us hope that we are going on to Minas Tirith.' 'Maybe,' said Legolas. 'Maybe,'\n",
      "The Sun is moon, and the Sun upon the Mountains of the Misty Mountains of Mordor, and the Silmaril of the Mountains of Shadow\n",
      "The Sun is drawn away from the Emyn Muil.' `Do not know whatever it is,' said Gimli. `This is nothing of the Dark Lord\n",
      "The Sun is dangerous.' `Dangerous, yes, yes, yes, yes, yes, yes, we go, we go! ' said Gollum. `Smeagol. Smeag\n",
      "-----\n",
      "Температура = 0.8, альфа = 0.5\n",
      "The Sun is come to Middle-earth, and the Swords of Elendil's son of Elendil, and the Third Marshal of the\n",
      "The Sun is shining through the Sun.' `Here is the Silverlow,' said Legolas. `There lies the Lady Galadriel! ' said Gimli. `\n",
      "The Sun is full of the Second of the Sea. There are many men of the Men of Minas Tirith, the Dark Lord of Mordor, and\n",
      "The Sun is said that the Enemy will come to the Mundburg.' 'Gandalf!' said Theoden. 'Maybe,' said Theoden. 'For\n",
      "The Sun is dangerous. The Sword of Gilverloin's son of Eorl, and the Dark Lord knows of the Mountains of Minas\n",
      "-----\n"
     ]
    }
   ],
   "source": [
    "temperatures = [0, 0.2, 0.5, 0.8]\n",
    "alphas = [0, 0.1, 0.3, 0.5]\n",
    "\n",
    "all_test = itertools.product(temperatures, alphas)\n",
    "\n",
    "for t, a in all_test:\n",
    "    print(f\"Температура = {t}, альфа = {a}\")\n",
    "    answers = gen_some_sent(\"The Sun is\", 5, 10, True, t, a)\n",
    "    for ans in answers:\n",
    "        print(ans)\n",
    "    print(\"-----\")"
   ]
  },
  {
   "cell_type": "code",
   "execution_count": null,
   "metadata": {},
   "outputs": [],
   "source": []
  }
 ],
 "metadata": {
  "kernelspec": {
   "display_name": "Python 3",
   "language": "python",
   "name": "python3"
  },
  "language_info": {
   "codemirror_mode": {
    "name": "ipython",
    "version": 3
   },
   "file_extension": ".py",
   "mimetype": "text/x-python",
   "name": "python",
   "nbconvert_exporter": "python",
   "pygments_lexer": "ipython3",
   "version": "3.10.5"
  },
  "orig_nbformat": 4
 },
 "nbformat": 4,
 "nbformat_minor": 2
}
